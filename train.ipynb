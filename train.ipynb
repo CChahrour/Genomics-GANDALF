{
 "cells": [
  {
   "cell_type": "markdown",
   "id": "d76ba7da",
   "metadata": {},
   "source": [
    "# 🧙🏻‍♂️ GANDALF"
   ]
  },
  {
   "cell_type": "markdown",
   "id": "1bc85d13",
   "metadata": {},
   "source": [
    "Gated Adaptive Network for Deep Automated Learning of Features (GANDALF): \n",
    " - [Paper](https://arxiv.org/abs/2207.08548) \n",
    " - [Model](https://pytorch-tabular.readthedocs.io/en/latest/models/#gated-adaptive-network-for-deep-automated-learning-of-features-gandalf)"
   ]
  },
  {
   "cell_type": "markdown",
   "id": "85220f4d",
   "metadata": {},
   "source": [
    "# 📦 Setup"
   ]
  },
  {
   "cell_type": "code",
   "execution_count": 1,
   "id": "821c5c3f",
   "metadata": {},
   "outputs": [],
   "source": [
    "import datetime\n",
    "import json\n",
    "import os\n",
    "\n",
    "import pandas as pd\n",
    "import torch\n",
    "import wandb\n",
    "import numpy as np\n",
    "from pytorch_tabular import TabularModel\n",
    "from pytorch_tabular.config import (\n",
    "    DataConfig,\n",
    "    ExperimentConfig,\n",
    "    OptimizerConfig,\n",
    "    TrainerConfig,\n",
    ")\n",
    "from pytorch_tabular.models import (\n",
    "    GANDALFConfig,\n",
    ")\n",
    "from rich import print\n",
    "from rich.pretty import pprint"
   ]
  },
  {
   "cell_type": "code",
   "execution_count": 2,
   "id": "8dcf4cf7",
   "metadata": {},
   "outputs": [
    {
     "data": {
      "text/html": [
       "<pre style=\"white-space:pre;overflow-x:auto;line-height:normal;font-family:Menlo,'DejaVu Sans Mono',consolas,'Courier New',monospace\"><span style=\"color: #008000; text-decoration-color: #008000\">'Using device: mps'</span>\n",
       "</pre>\n"
      ],
      "text/plain": [
       "\u001b[32m'Using device: mps'\u001b[0m\n"
      ]
     },
     "metadata": {},
     "output_type": "display_data"
    }
   ],
   "source": [
    "device = torch.device(\n",
    "    \"mps\"\n",
    "    if torch.backends.mps.is_available()\n",
    "    else \"cuda\"\n",
    "    if torch.cuda.is_available()\n",
    "    else \"cpu\"\n",
    ")\n",
    "pprint(f\"Using device: {device}\")"
   ]
  },
  {
   "cell_type": "code",
   "execution_count": 3,
   "id": "fb74bf14",
   "metadata": {},
   "outputs": [
    {
     "data": {
      "text/html": [
       "<pre style=\"white-space:pre;overflow-x:auto;line-height:normal;font-family:Menlo,'DejaVu Sans Mono',consolas,'Courier New',monospace\"><span style=\"color: #008000; text-decoration-color: #008000\">'Project: GANDALF_multilabel_regression_promoters_512bp_MLL-N | Sweep: sweep_multilabel_GANDALF_promoters_512bp_MLL-N_2025-04-12_1255'</span>\n",
       "</pre>\n"
      ],
      "text/plain": [
       "\u001b[32m'Project: GANDALF_multilabel_regression_promoters_512bp_MLL-N | Sweep: sweep_multilabel_GANDALF_promoters_512bp_MLL-N_2025-04-12_1255'\u001b[0m\n"
      ]
     },
     "metadata": {},
     "output_type": "display_data"
    }
   ],
   "source": [
    "model = \"GANDALF\"\n",
    "region_name = \"promoters_512bp\"\n",
    "target = \"MLL-N\"\n",
    "task = \"multilabel_regression\"\n",
    "project = f\"{model}_{task}_{region_name}_{target}\"\n",
    "start_time = datetime.datetime.now().strftime(\"%Y-%m-%d_%H%M\")\n",
    "sweep_name = f\"sweep_multilabel_{model}_{region_name}_{target}_{start_time}\"\n",
    "run_name = f\"run_{start_time}\"\n",
    "results_dir = f\"results/{project}\"\n",
    "os.environ[\"WANDB_DIR\"] = f\"{results_dir}\"\n",
    "os.makedirs(results_dir, exist_ok=True)\n",
    "\n",
    "pprint(f\"Project: {project} | Sweep: {sweep_name}\")"
   ]
  },
  {
   "cell_type": "markdown",
   "id": "55cae40c",
   "metadata": {},
   "source": [
    "# 📊 Load Data"
   ]
  },
  {
   "cell_type": "code",
   "execution_count": 4,
   "id": "007ecda2",
   "metadata": {},
   "outputs": [],
   "source": [
    "data = pd.read_parquet(f\"data/{region_name}.parquet\")\n",
    "for col in data.select_dtypes(include=[\"float64\"]).columns:\n",
    "    data[col] = data[col].astype(\"float32\")\n",
    "data = data.loc[:, ~data.columns.str.startswith(\"C3\")]\n",
    "data = data.loc[:, ~data.columns.str.startswith(\"C3\")]\n",
    "meth_cols = [col for col in data.columns if \"METH\" in col]\n",
    "data[meth_cols] = data[meth_cols].fillna(-1)\n",
    "\n",
    "train_data = data[~data.index.str.startswith((\"chr8\", \"chr9\"))]\n",
    "val_data = data[data.index.str.startswith(\"chr8\")]\n",
    "test_data = data[data.index.str.startswith(\"chr9\")]\n"
   ]
  },
  {
   "cell_type": "markdown",
   "id": "31a819cc",
   "metadata": {},
   "source": [
    "# ⚙️ Config"
   ]
  },
  {
   "cell_type": "code",
   "execution_count": 5,
   "id": "88c6069e",
   "metadata": {},
   "outputs": [],
   "source": [
    "\n",
    "optimizer_config = OptimizerConfig()\n",
    "\n",
    "data_config = DataConfig(\n",
    "    continuous_cols=[col for col in train_data.columns if target not in col],\n",
    "    continuous_feature_transform=\"quantile_uniform\",\n",
    "    dataloader_kwargs={\"persistent_workers\": True},\n",
    "    normalize_continuous_features=True,\n",
    "    num_workers=10,\n",
    "    pin_memory=True,\n",
    "    target=[col for col in train_data.columns if target in col],\n",
    "    validation_split=0,\n",
    ")\n",
    "\n",
    "def train():\n",
    "    \"\"\"Trains a model with the hyperparameters defined in the sweep.\"\"\"\n",
    "    if wandb.run is not None:\n",
    "        wandb.finish()\n",
    "\n",
    "    with wandb.init(\n",
    "        name=run_name,\n",
    "        reinit=True,\n",
    "    ) as run:\n",
    "        config = run.config\n",
    "\n",
    "        trainer_config = TrainerConfig(\n",
    "            accelerator=\"mps\",\n",
    "            auto_lr_find=True,\n",
    "            batch_size=config.batch_size,\n",
    "            check_val_every_n_epoch=5,\n",
    "            checkpoints_path=f\"{results_dir}/checkpoints\",\n",
    "            early_stopping_mode=\"min\",\n",
    "            early_stopping_patience=3,\n",
    "            early_stopping=\"valid_loss\",\n",
    "            load_best=True,\n",
    "            max_epochs=config.max_epochs,\n",
    "            progress_bar=\"rich\",\n",
    "            trainer_kwargs=dict(enable_model_summary=False),\n",
    "        )\n",
    "\n",
    "        experiment_config = ExperimentConfig(\n",
    "            exp_log_freq=5,\n",
    "            exp_watch=\"gradients\",\n",
    "            log_logits=False,\n",
    "            log_target=\"wandb\",\n",
    "            project_name=project,\n",
    "            run_name=run.name,\n",
    "        )\n",
    "\n",
    "        model_config = GANDALFConfig(\n",
    "            embedding_dropout=config.embedding_dropout,\n",
    "            gflu_dropout=config.gflu_dropout,\n",
    "            gflu_feature_init_sparsity=config.gflu_feature_init_sparsity,\n",
    "            gflu_stages=config.gflu_stages,\n",
    "            head=\"LinearHead\",\n",
    "            loss=\"MSELoss\",\n",
    "            metrics=[\"r2_score\", \"mean_squared_error\"],\n",
    "            seed=42,\n",
    "            target_range = [(0, 1)] * len(data_config.target),\n",
    "            task=\"regression\",\n",
    "        )\n",
    "\n",
    "        model = TabularModel(\n",
    "            data_config=data_config,\n",
    "            experiment_config=experiment_config,\n",
    "            model_config=model_config,\n",
    "            optimizer_config=optimizer_config,\n",
    "            trainer_config=trainer_config,\n",
    "            verbose=False,\n",
    "            suppress_lightning_logger=True,\n",
    "        )\n",
    "\n",
    "        model.fit(train=train_data, validation=val_data)\n",
    "        model.predict(test_data)"
   ]
  },
  {
   "cell_type": "markdown",
   "id": "40ef5849",
   "metadata": {},
   "source": [
    "# 🧹Sweep"
   ]
  },
  {
   "cell_type": "code",
   "execution_count": null,
   "id": "edab74dd",
   "metadata": {},
   "outputs": [
    {
     "name": "stderr",
     "output_type": "stream",
     "text": [
      "\u001b[34m\u001b[1mwandb\u001b[0m: Using wandb-core as the SDK backend.  Please refer to https://wandb.me/wandb-core for more information.\n"
     ]
    },
    {
     "name": "stdout",
     "output_type": "stream",
     "text": [
      "Create sweep with ID: bt06mu84\n",
      "Sweep URL: https://wandb.ai/catherine-chahrour-university-of-oxford/GANDALF_multilabel_regression_promoters_512bp_MLL-N/sweeps/bt06mu84\n"
     ]
    },
    {
     "name": "stderr",
     "output_type": "stream",
     "text": [
      "\u001b[34m\u001b[1mwandb\u001b[0m: Agent Starting Run: mkoobhhu with config:\n",
      "\u001b[34m\u001b[1mwandb\u001b[0m: \tbatch_size: 512\n",
      "\u001b[34m\u001b[1mwandb\u001b[0m: \tembedding_dropout: 0.10041147274844606\n",
      "\u001b[34m\u001b[1mwandb\u001b[0m: \tgflu_dropout: 0.03079751193862008\n",
      "\u001b[34m\u001b[1mwandb\u001b[0m: \tgflu_feature_init_sparsity: 0.4593175603371044\n",
      "\u001b[34m\u001b[1mwandb\u001b[0m: \tgflu_stages: 1\n",
      "\u001b[34m\u001b[1mwandb\u001b[0m: \tmax_epochs: 88\n",
      "\u001b[34m\u001b[1mwandb\u001b[0m: Currently logged in as: \u001b[33mcatherine-chahrour\u001b[0m (\u001b[33mcatherine-chahrour-university-of-oxford\u001b[0m) to \u001b[32mhttps://api.wandb.ai\u001b[0m. Use \u001b[1m`wandb login --relogin`\u001b[0m to force relogin\n"
     ]
    },
    {
     "data": {
      "text/html": [
       "Tracking run with wandb version 0.19.7.dev1"
      ],
      "text/plain": [
       "<IPython.core.display.HTML object>"
      ]
     },
     "metadata": {},
     "output_type": "display_data"
    },
    {
     "data": {
      "text/html": [
       "Run data is saved locally in <code>results/GANDALF_multilabel_regression_promoters_512bp_MLL-N/wandb/run-20250412_125517-mkoobhhu</code>"
      ],
      "text/plain": [
       "<IPython.core.display.HTML object>"
      ]
     },
     "metadata": {},
     "output_type": "display_data"
    },
    {
     "data": {
      "text/html": [
       "Syncing run <strong><a href='https://wandb.ai/catherine-chahrour-university-of-oxford/GANDALF_multilabel_regression_promoters_512bp_MLL-N/runs/mkoobhhu' target=\"_blank\">run_2025-04-12_1255</a></strong> to <a href='https://wandb.ai/catherine-chahrour-university-of-oxford/GANDALF_multilabel_regression_promoters_512bp_MLL-N' target=\"_blank\">Weights & Biases</a> (<a href='https://wandb.me/developer-guide' target=\"_blank\">docs</a>)<br>Sweep page: <a href='https://wandb.ai/catherine-chahrour-university-of-oxford/GANDALF_multilabel_regression_promoters_512bp_MLL-N/sweeps/bt06mu84' target=\"_blank\">https://wandb.ai/catherine-chahrour-university-of-oxford/GANDALF_multilabel_regression_promoters_512bp_MLL-N/sweeps/bt06mu84</a>"
      ],
      "text/plain": [
       "<IPython.core.display.HTML object>"
      ]
     },
     "metadata": {},
     "output_type": "display_data"
    },
    {
     "data": {
      "text/html": [
       " View project at <a href='https://wandb.ai/catherine-chahrour-university-of-oxford/GANDALF_multilabel_regression_promoters_512bp_MLL-N' target=\"_blank\">https://wandb.ai/catherine-chahrour-university-of-oxford/GANDALF_multilabel_regression_promoters_512bp_MLL-N</a>"
      ],
      "text/plain": [
       "<IPython.core.display.HTML object>"
      ]
     },
     "metadata": {},
     "output_type": "display_data"
    },
    {
     "data": {
      "text/html": [
       " View sweep at <a href='https://wandb.ai/catherine-chahrour-university-of-oxford/GANDALF_multilabel_regression_promoters_512bp_MLL-N/sweeps/bt06mu84' target=\"_blank\">https://wandb.ai/catherine-chahrour-university-of-oxford/GANDALF_multilabel_regression_promoters_512bp_MLL-N/sweeps/bt06mu84</a>"
      ],
      "text/plain": [
       "<IPython.core.display.HTML object>"
      ]
     },
     "metadata": {},
     "output_type": "display_data"
    },
    {
     "data": {
      "text/html": [
       " View run at <a href='https://wandb.ai/catherine-chahrour-university-of-oxford/GANDALF_multilabel_regression_promoters_512bp_MLL-N/runs/mkoobhhu' target=\"_blank\">https://wandb.ai/catherine-chahrour-university-of-oxford/GANDALF_multilabel_regression_promoters_512bp_MLL-N/runs/mkoobhhu</a>"
      ],
      "text/plain": [
       "<IPython.core.display.HTML object>"
      ]
     },
     "metadata": {},
     "output_type": "display_data"
    },
    {
     "data": {
      "text/html": [
       "<pre style=\"white-space:pre;overflow-x:auto;line-height:normal;font-family:Menlo,'DejaVu Sans Mono',consolas,'Courier New',monospace\"><span style=\"color: #008080; text-decoration-color: #008080; font-weight: bold\">2025</span>-<span style=\"color: #008080; text-decoration-color: #008080; font-weight: bold\">04</span>-<span style=\"color: #008080; text-decoration-color: #008080; font-weight: bold\">12</span> <span style=\"color: #00ff00; text-decoration-color: #00ff00; font-weight: bold\">12:55:18</span>,<span style=\"color: #008080; text-decoration-color: #008080; font-weight: bold\">774</span> - <span style=\"font-weight: bold\">{</span>pytorch_tabular.models.gandalf.gandal<span style=\"color: #00ff00; text-decoration-color: #00ff00; font-weight: bold\">f:109</span><span style=\"font-weight: bold\">}</span> - INFO - Data Aware Initialization of T0    \n",
       "</pre>\n"
      ],
      "text/plain": [
       "\u001b[1;36m2025\u001b[0m-\u001b[1;36m04\u001b[0m-\u001b[1;36m12\u001b[0m \u001b[1;92m12:55:18\u001b[0m,\u001b[1;36m774\u001b[0m - \u001b[1m{\u001b[0mpytorch_tabular.models.gandalf.gandal\u001b[1;92mf:109\u001b[0m\u001b[1m}\u001b[0m - INFO - Data Aware Initialization of T0    \n"
      ]
     },
     "metadata": {},
     "output_type": "display_data"
    },
    {
     "name": "stderr",
     "output_type": "stream",
     "text": [
      "/Users/catherine/miniforge3/envs/stack/lib/python3.13/site-packages/pytorch_lightning/loggers/wandb.py:396: There is a wandb run already in progress and newly created instances of `WandbLogger` will reuse this run. If this is not desired, call `wandb.finish()` before instantiating `WandbLogger`.\n",
      "\u001b[34m\u001b[1mwandb\u001b[0m: logging graph, to disable use `wandb.watch(log_graph=False)`\n"
     ]
    },
    {
     "data": {
      "application/vnd.jupyter.widget-view+json": {
       "model_id": "4b0c62670c7649b18f63772db46022ad",
       "version_major": 2,
       "version_minor": 0
      },
      "text/plain": [
       "Finding best initial lr:   0%|          | 0/100 [00:00<?, ?it/s]"
      ]
     },
     "metadata": {},
     "output_type": "display_data"
    },
    {
     "data": {
      "text/html": [
       "<pre style=\"white-space:pre;overflow-x:auto;line-height:normal;font-family:Menlo,'DejaVu Sans Mono',consolas,'Courier New',monospace\"><span style=\"color: #008080; text-decoration-color: #008080; font-weight: bold\">2025</span>-<span style=\"color: #008080; text-decoration-color: #008080; font-weight: bold\">04</span>-<span style=\"color: #008080; text-decoration-color: #008080; font-weight: bold\">12</span> <span style=\"color: #00ff00; text-decoration-color: #00ff00; font-weight: bold\">12:57:49</span>,<span style=\"color: #008080; text-decoration-color: #008080; font-weight: bold\">265</span> - <span style=\"font-weight: bold\">{</span>pytorch_tabular.models.gandalf.gandal<span style=\"color: #00ff00; text-decoration-color: #00ff00; font-weight: bold\">f:109</span><span style=\"font-weight: bold\">}</span> - INFO - Data Aware Initialization of T0    \n",
       "</pre>\n"
      ],
      "text/plain": [
       "\u001b[1;36m2025\u001b[0m-\u001b[1;36m04\u001b[0m-\u001b[1;36m12\u001b[0m \u001b[1;92m12:57:49\u001b[0m,\u001b[1;36m265\u001b[0m - \u001b[1m{\u001b[0mpytorch_tabular.models.gandalf.gandal\u001b[1;92mf:109\u001b[0m\u001b[1m}\u001b[0m - INFO - Data Aware Initialization of T0    \n"
      ]
     },
     "metadata": {},
     "output_type": "display_data"
    },
    {
     "name": "stderr",
     "output_type": "stream",
     "text": [
      "\u001b[34m\u001b[1mwandb\u001b[0m: \u001b[33mWARNING\u001b[0m Config item 'embedding_dropout' was locked by 'sweep' (ignored update).\n",
      "\u001b[34m\u001b[1mwandb\u001b[0m: \u001b[33mWARNING\u001b[0m Config item 'gflu_stages' was locked by 'sweep' (ignored update).\n",
      "\u001b[34m\u001b[1mwandb\u001b[0m: \u001b[33mWARNING\u001b[0m Config item 'gflu_dropout' was locked by 'sweep' (ignored update).\n",
      "\u001b[34m\u001b[1mwandb\u001b[0m: \u001b[33mWARNING\u001b[0m Config item 'gflu_feature_init_sparsity' was locked by 'sweep' (ignored update).\n",
      "\u001b[34m\u001b[1mwandb\u001b[0m: \u001b[33mWARNING\u001b[0m Config item 'batch_size' was locked by 'sweep' (ignored update).\n",
      "\u001b[34m\u001b[1mwandb\u001b[0m: \u001b[33mWARNING\u001b[0m Config item 'max_epochs' was locked by 'sweep' (ignored update).\n"
     ]
    },
    {
     "data": {
      "application/vnd.jupyter.widget-view+json": {
       "model_id": "c1594a27b8304759aaa4a31ed11f755f",
       "version_major": 2,
       "version_minor": 0
      },
      "text/plain": [
       "Output()"
      ]
     },
     "metadata": {},
     "output_type": "display_data"
    },
    {
     "data": {
      "text/html": [
       "<pre style=\"white-space:pre;overflow-x:auto;line-height:normal;font-family:Menlo,'DejaVu Sans Mono',consolas,'Courier New',monospace\"></pre>\n"
      ],
      "text/plain": []
     },
     "metadata": {},
     "output_type": "display_data"
    },
    {
     "name": "stderr",
     "output_type": "stream",
     "text": [
      "/Users/catherine/miniforge3/envs/stack/lib/python3.13/site-packages/pytorch_tabular/utils/python_utils.py:85: FutureWarning: You are using `torch.load` with `weights_only=False` (the current default value), which uses the default pickle module implicitly. It is possible to construct malicious pickle data which will execute arbitrary code during unpickling (See https://github.com/pytorch/pytorch/blob/main/SECURITY.md#untrusted-models for more details). In a future release, the default value for `weights_only` will be flipped to `True`. This limits the functions that could be executed during unpickling. Arbitrary objects will no longer be allowed to be loaded via this mode unless they are explicitly allowlisted by the user via `torch.serialization.add_safe_globals`. We recommend you start setting `weights_only=True` for any use case where you don't have full control of the loaded file. Please open an issue on GitHub for any issues related to this experimental feature.\n",
      "  return torch.load(f, map_location=map_location)\n"
     ]
    },
    {
     "data": {
      "text/html": [],
      "text/plain": [
       "<IPython.core.display.HTML object>"
      ]
     },
     "metadata": {},
     "output_type": "display_data"
    },
    {
     "data": {
      "text/html": [
       "<br>    <style><br>        .wandb-row {<br>            display: flex;<br>            flex-direction: row;<br>            flex-wrap: wrap;<br>            justify-content: flex-start;<br>            width: 100%;<br>        }<br>        .wandb-col {<br>            display: flex;<br>            flex-direction: column;<br>            flex-basis: 100%;<br>            flex: 1;<br>            padding: 10px;<br>        }<br>    </style><br><div class=\"wandb-row\"><div class=\"wandb-col\"><h3>Run history:</h3><br/><table class=\"wandb\"><tr><td>epoch</td><td>▁▁▁▁▂▂▂▂▂▃▃▃▃▃▃▄▄▄▄▄▅▅▅▅▅▆▆▆▆▆▆▆▆▇▇▇▇▇██</td></tr><tr><td>train_loss</td><td>█▇▅▄▄▄▄▂▅▂▂▃▂▃▃▂▃▂▂▂▁▃▂▂▁▃▂▃▂▃▂▁▂▃▂▁▂▃▂</td></tr><tr><td>train_loss_0</td><td>█▃▃▂▂▂▂▂▂▂▂▂▂▂▂▂▁▁▁▁▁▁▁▁▁</td></tr><tr><td>train_loss_1</td><td>█▃▂▂▂▂▂▂▂▂▂▁▁▁▁▁▁▁▁▁▁▁▁▁▁</td></tr><tr><td>train_loss_10</td><td>█▃▂▂▂▂▁▁▁▁▁▁▁▁▁▁▁▁▁▁▁▁▁▁▁</td></tr><tr><td>train_loss_11</td><td>█▃▂▂▁▁▁▁▁▁▁▁▁▁▁▁▁▁▁▁▁▁▁▁▁</td></tr><tr><td>train_loss_12</td><td>█▃▂▂▁▂▁▁▁▁▁▁▁▁▁▁▁▁▁▁▁▁▁▁▁</td></tr><tr><td>train_loss_13</td><td>█▃▂▂▂▂▂▂▂▂▁▁▁▁▁▁▁▁▁▁▁▁▁▁▁</td></tr><tr><td>train_loss_14</td><td>█▃▂▂▁▁▁▁▁▁▁▁▁▁▁▁▁▁▁▁▁▁▁▁▁</td></tr><tr><td>train_loss_15</td><td>█▂▂▁▁▁▁▁▁▁▁▁▁▁▁▁▁▁▁▁▁▁▁▁▁</td></tr><tr><td>train_loss_16</td><td>█▃▂▂▁▁▁▁▁▁▁▁▁▁▁▁▁▁▁▁▁▁▁▁▁</td></tr><tr><td>train_loss_17</td><td>█▃▂▂▂▂▁▁▁▁▁▁▁▁▁▁▁▁▁▁▁▁▁▁▁</td></tr><tr><td>train_loss_18</td><td>█▂▂▂▁▁▁▁▁▁▁▁▁▁▁▁▁▁▁▁▁▁▁▁▁</td></tr><tr><td>train_loss_19</td><td>█▂▂▂▂▂▁▁▁▁▁▁▁▁▁▁▁▁▁▁▁▁▁▁▁</td></tr><tr><td>train_loss_2</td><td>█▄▃▃▃▃▃▂▂▂▂▂▂▂▂▂▂▂▂▁▁▁▁▁▁</td></tr><tr><td>train_loss_20</td><td>█▃▂▂▂▂▁▁▁▁▁▁▁▁▁▁▁▁▁▁▁▁▁▁▁</td></tr><tr><td>train_loss_21</td><td>█▃▂▂▂▁▁▁▁▁▁▁▁▁▁▁▁▁▁▁▁▁▁▁▁</td></tr><tr><td>train_loss_22</td><td>█▃▂▂▁▁▁▁▁▁▁▁▁▁▁▁▁▁▁▁▁▁▁▁▁</td></tr><tr><td>train_loss_23</td><td>█▂▂▂▁▁▁▁▁▁▁▁▁▁▁▁▁▁▁▁▁▁▁▁▁</td></tr><tr><td>train_loss_24</td><td>█▃▂▂▂▂▁▁▁▁▁▁▁▁▁▁▁▁▁▁▁▁▁▁▁</td></tr><tr><td>train_loss_25</td><td>█▃▂▂▁▁▁▁▁▁▁▁▁▁▁▁▁▁▁▁▁▁▁▁▁</td></tr><tr><td>train_loss_26</td><td>█▃▂▂▁▂▁▁▁▁▁▁▁▁▁▁▁▁▁▁▁▁▁▁▁</td></tr><tr><td>train_loss_27</td><td>█▃▂▂▂▂▁▁▁▁▁▁▁▁▁▁▁▁▁▁▁▁▁▁▁</td></tr><tr><td>train_loss_28</td><td>█▂▂▁▁▁▁▁▁▁▁▁▁▁▁▁▁▁▁▁▁▁▁▁▁</td></tr><tr><td>train_loss_29</td><td>█▃▃▃▃▃▂▂▂▂▂▂▂▂▂▂▂▂▁▁▁▁▁▁▁</td></tr><tr><td>train_loss_3</td><td>█▄▃▃▃▃▂▂▂▂▂▂▂▂▂▂▂▂▁▁▁▁▁▁▁</td></tr><tr><td>train_loss_30</td><td>█▃▂▂▂▂▁▁▁▁▁▁▁▁▁▁▁▁▁▁▁▁▁▁▁</td></tr><tr><td>train_loss_31</td><td>█▃▂▂▂▂▂▂▂▂▂▂▂▂▂▁▁▁▁▁▁▁▁▁▁</td></tr><tr><td>train_loss_32</td><td>█▃▂▂▂▂▁▁▁▁▁▁▁▁▁▁▁▁▁▁▁▁▁▁▁</td></tr><tr><td>train_loss_33</td><td>█▃▂▂▂▂▂▁▁▁▁▁▁▁▁▁▁▁▁▁▁▁▁▁▁</td></tr><tr><td>train_loss_34</td><td>█▂▂▂▂▁▁▁▁▁▁▁▁▁▁▁▁▁▁▁▁▁▁▁▁</td></tr><tr><td>train_loss_35</td><td>█▂▂▂▁▁▁▁▁▁▁▁▁▁▁▁▁▁▁▁▁▁▁▁▁</td></tr><tr><td>train_loss_36</td><td>█▂▂▂▂▁▁▁▁▁▁▁▁▁▁▁▁▁▁▁▁▁▁▁▁</td></tr><tr><td>train_loss_37</td><td>█▃▂▂▂▂▂▂▁▁▁▁▁▁▁▁▁▁▁▁▁▁▁▁▁</td></tr><tr><td>train_loss_38</td><td>█▃▂▂▂▂▂▂▁▁▁▁▁▁▁▁▁▁▁▁▁▁▁▁▁</td></tr><tr><td>train_loss_4</td><td>█▄▃▃▃▃▃▃▂▂▂▂▂▂▂▂▂▂▂▂▁▁▁▁▁</td></tr><tr><td>train_loss_5</td><td>█▃▂▂▂▂▂▂▂▂▂▂▂▂▂▂▁▁▁▁▁▁▁▁▁</td></tr><tr><td>train_loss_6</td><td>█▃▃▂▂▂▂▂▂▂▂▂▂▂▂▂▁▁▁▁▁▁▁▁▁</td></tr><tr><td>train_loss_7</td><td>█▄▃▃▃▃▂▂▂▂▂▂▂▂▂▂▂▂▁▁▁▁▁▁▁</td></tr><tr><td>train_loss_8</td><td>█▃▂▂▂▂▁▁▁▁▁▁▁▁▁▁▁▁▁▁▁▁▁▁▁</td></tr><tr><td>train_loss_9</td><td>█▃▃▂▂▂▂▂▂▁▁▁▁▁▁▁▁▁▁▁▁▁▁▁▁</td></tr><tr><td>train_mean_squared_error</td><td>█▃▂▂▂▂▂▂▂▂▁▁▁▁▁▁▁▁▁▁▁▁▁▁▁</td></tr><tr><td>train_mean_squared_error_0</td><td>█▃▃▂▂▂▂▂▂▂▂▂▂▂▂▂▁▁▁▁▁▁▁▁▁</td></tr><tr><td>train_mean_squared_error_1</td><td>█▃▂▂▂▂▂▂▂▂▂▁▁▁▁▁▁▁▁▁▁▁▁▁▁</td></tr><tr><td>train_mean_squared_error_10</td><td>█▃▂▂▂▂▁▁▁▁▁▁▁▁▁▁▁▁▁▁▁▁▁▁▁</td></tr><tr><td>train_mean_squared_error_11</td><td>█▃▂▂▁▁▁▁▁▁▁▁▁▁▁▁▁▁▁▁▁▁▁▁▁</td></tr><tr><td>train_mean_squared_error_12</td><td>█▃▂▂▁▂▁▁▁▁▁▁▁▁▁▁▁▁▁▁▁▁▁▁▁</td></tr><tr><td>train_mean_squared_error_13</td><td>█▃▂▂▂▂▂▂▂▂▁▁▁▁▁▁▁▁▁▁▁▁▁▁▁</td></tr><tr><td>train_mean_squared_error_14</td><td>█▃▂▂▁▁▁▁▁▁▁▁▁▁▁▁▁▁▁▁▁▁▁▁▁</td></tr><tr><td>train_mean_squared_error_15</td><td>█▂▂▁▁▁▁▁▁▁▁▁▁▁▁▁▁▁▁▁▁▁▁▁▁</td></tr><tr><td>train_mean_squared_error_16</td><td>█▃▂▂▁▁▁▁▁▁▁▁▁▁▁▁▁▁▁▁▁▁▁▁▁</td></tr><tr><td>train_mean_squared_error_17</td><td>█▃▂▂▂▂▁▁▁▁▁▁▁▁▁▁▁▁▁▁▁▁▁▁▁</td></tr><tr><td>train_mean_squared_error_18</td><td>█▂▂▂▁▁▁▁▁▁▁▁▁▁▁▁▁▁▁▁▁▁▁▁▁</td></tr><tr><td>train_mean_squared_error_19</td><td>█▂▂▂▂▂▁▁▁▁▁▁▁▁▁▁▁▁▁▁▁▁▁▁▁</td></tr><tr><td>train_mean_squared_error_2</td><td>█▄▃▃▃▃▃▂▂▂▂▂▂▂▂▂▂▂▂▁▁▁▁▁▁</td></tr><tr><td>train_mean_squared_error_20</td><td>█▃▂▂▂▂▁▁▁▁▁▁▁▁▁▁▁▁▁▁▁▁▁▁▁</td></tr><tr><td>train_mean_squared_error_21</td><td>█▃▂▂▂▁▁▁▁▁▁▁▁▁▁▁▁▁▁▁▁▁▁▁▁</td></tr><tr><td>train_mean_squared_error_22</td><td>█▃▂▂▁▁▁▁▁▁▁▁▁▁▁▁▁▁▁▁▁▁▁▁▁</td></tr><tr><td>train_mean_squared_error_23</td><td>█▂▂▂▁▁▁▁▁▁▁▁▁▁▁▁▁▁▁▁▁▁▁▁▁</td></tr><tr><td>train_mean_squared_error_24</td><td>█▃▂▂▂▂▁▁▁▁▁▁▁▁▁▁▁▁▁▁▁▁▁▁▁</td></tr><tr><td>train_mean_squared_error_25</td><td>█▃▂▂▁▁▁▁▁▁▁▁▁▁▁▁▁▁▁▁▁▁▁▁▁</td></tr><tr><td>train_mean_squared_error_26</td><td>█▃▂▂▁▂▁▁▁▁▁▁▁▁▁▁▁▁▁▁▁▁▁▁▁</td></tr><tr><td>train_mean_squared_error_27</td><td>█▃▂▂▂▂▁▁▁▁▁▁▁▁▁▁▁▁▁▁▁▁▁▁▁</td></tr><tr><td>train_mean_squared_error_28</td><td>█▂▂▁▁▁▁▁▁▁▁▁▁▁▁▁▁▁▁▁▁▁▁▁▁</td></tr><tr><td>train_mean_squared_error_29</td><td>█▃▃▃▃▃▂▂▂▂▂▂▂▂▂▂▂▂▁▁▁▁▁▁▁</td></tr><tr><td>train_mean_squared_error_3</td><td>█▄▃▃▃▃▂▂▂▂▂▂▂▂▂▂▂▂▁▁▁▁▁▁▁</td></tr><tr><td>train_mean_squared_error_30</td><td>█▃▂▂▂▂▁▁▁▁▁▁▁▁▁▁▁▁▁▁▁▁▁▁▁</td></tr><tr><td>train_mean_squared_error_31</td><td>█▃▂▂▂▂▂▂▂▂▂▂▂▂▂▁▁▁▁▁▁▁▁▁▁</td></tr><tr><td>train_mean_squared_error_32</td><td>█▃▂▂▂▂▁▁▁▁▁▁▁▁▁▁▁▁▁▁▁▁▁▁▁</td></tr><tr><td>train_mean_squared_error_33</td><td>█▃▂▂▂▂▂▁▁▁▁▁▁▁▁▁▁▁▁▁▁▁▁▁▁</td></tr><tr><td>train_mean_squared_error_34</td><td>█▂▂▂▂▁▁▁▁▁▁▁▁▁▁▁▁▁▁▁▁▁▁▁▁</td></tr><tr><td>train_mean_squared_error_35</td><td>█▂▂▂▁▁▁▁▁▁▁▁▁▁▁▁▁▁▁▁▁▁▁▁▁</td></tr><tr><td>train_mean_squared_error_36</td><td>█▂▂▂▂▁▁▁▁▁▁▁▁▁▁▁▁▁▁▁▁▁▁▁▁</td></tr><tr><td>train_mean_squared_error_37</td><td>█▃▂▂▂▂▂▂▁▁▁▁▁▁▁▁▁▁▁▁▁▁▁▁▁</td></tr><tr><td>train_mean_squared_error_38</td><td>█▃▂▂▂▂▂▂▁▁▁▁▁▁▁▁▁▁▁▁▁▁▁▁▁</td></tr><tr><td>train_mean_squared_error_4</td><td>█▄▃▃▃▃▃▃▂▂▂▂▂▂▂▂▂▂▂▂▁▁▁▁▁</td></tr><tr><td>train_mean_squared_error_5</td><td>█▃▂▂▂▂▂▂▂▂▂▂▂▂▂▂▁▁▁▁▁▁▁▁▁</td></tr><tr><td>train_mean_squared_error_6</td><td>█▃▃▂▂▂▂▂▂▂▂▂▂▂▂▂▁▁▁▁▁▁▁▁▁</td></tr><tr><td>train_mean_squared_error_7</td><td>█▄▃▃▃▃▂▂▂▂▂▂▂▂▂▂▂▂▁▁▁▁▁▁▁</td></tr><tr><td>train_mean_squared_error_8</td><td>█▃▂▂▂▂▁▁▁▁▁▁▁▁▁▁▁▁▁▁▁▁▁▁▁</td></tr><tr><td>train_mean_squared_error_9</td><td>█▃▃▂▂▂▂▂▂▁▁▁▁▁▁▁▁▁▁▁▁▁▁▁▁</td></tr><tr><td>train_r2_score</td><td>▁▆▇▇▇▇▇██████████████████</td></tr><tr><td>train_r2_score_0</td><td>▁▆▆▇▇▇▇▇▇▇▇▇▇▇▇▇█████████</td></tr><tr><td>train_r2_score_1</td><td>▁▆▇▇▇▇▇▇▇▇▇██████████████</td></tr><tr><td>train_r2_score_10</td><td>▁▆▇▇▇▇███████████████████</td></tr><tr><td>train_r2_score_11</td><td>▁▆▇▇█████████████████████</td></tr><tr><td>train_r2_score_12</td><td>▁▆▇▇█████████████████████</td></tr><tr><td>train_r2_score_13</td><td>▁▆▇▇▇▇▇▇▇▇███████████████</td></tr><tr><td>train_r2_score_14</td><td>▁▆▇▇█████████████████████</td></tr><tr><td>train_r2_score_15</td><td>▁▇▇██████████████████████</td></tr><tr><td>train_r2_score_16</td><td>▁▆▇▇█████████████████████</td></tr><tr><td>train_r2_score_17</td><td>▁▆▇▇█▇███████████████████</td></tr><tr><td>train_r2_score_18</td><td>▁▇▇▇█████████████████████</td></tr><tr><td>train_r2_score_19</td><td>▁▇▇▇█▇███████████████████</td></tr><tr><td>train_r2_score_2</td><td>▁▅▆▆▆▆▆▇▇▇▇▇▇▇▇▇▇▇▇██████</td></tr><tr><td>train_r2_score_20</td><td>▁▆▇▇█▇███████████████████</td></tr><tr><td>train_r2_score_21</td><td>▁▆▇▇▇████████████████████</td></tr><tr><td>train_r2_score_22</td><td>▁▆▇▇█████████████████████</td></tr><tr><td>train_r2_score_23</td><td>▁▇▇▇█████████████████████</td></tr><tr><td>train_r2_score_24</td><td>▁▆▇▇▇▇███████████████████</td></tr><tr><td>train_r2_score_25</td><td>▁▆▇▇█████████████████████</td></tr><tr><td>train_r2_score_26</td><td>▁▆▇▇█▇███████████████████</td></tr><tr><td>train_r2_score_27</td><td>▁▆▇▇▇▇███████████████████</td></tr><tr><td>train_r2_score_28</td><td>▁▇▇██████████████████████</td></tr><tr><td>train_r2_score_29</td><td>▁▆▆▆▆▆▇▇▇▇▇▇▇▇▇▇▇▇███████</td></tr><tr><td>train_r2_score_3</td><td>▁▅▆▆▆▆▇▇▇▇▇▇▇▇▇▇▇▇███████</td></tr><tr><td>train_r2_score_30</td><td>▁▆▇▇▇▇███████████████████</td></tr><tr><td>train_r2_score_31</td><td>▁▆▇▇▇▇▇▇▇▇▇▇▇▇▇██████████</td></tr><tr><td>train_r2_score_32</td><td>▁▆▇▇▇▇███████████████████</td></tr><tr><td>train_r2_score_33</td><td>▁▆▇▇▇▇▇██████████████████</td></tr><tr><td>train_r2_score_34</td><td>▁▇▇▇▇████████████████████</td></tr><tr><td>train_r2_score_35</td><td>▁▇▇▇█████████████████████</td></tr><tr><td>train_r2_score_36</td><td>▁▇▇▇▇████████████████████</td></tr><tr><td>train_r2_score_37</td><td>▁▆▇▇▇▇▇▇█████████████████</td></tr><tr><td>train_r2_score_38</td><td>▁▆▇▇▇▇▇▇█████████████████</td></tr><tr><td>train_r2_score_4</td><td>▁▅▆▆▆▆▆▆▇▇▇▇▇▇▇▇▇▇▇▇█████</td></tr><tr><td>train_r2_score_5</td><td>▁▆▇▇▇▇▇▇▇▇▇▇▇▇▇▇█████████</td></tr><tr><td>train_r2_score_6</td><td>▁▆▆▇▇▇▇▇▇▇▇▇▇▇▇▇█████████</td></tr><tr><td>train_r2_score_7</td><td>▁▅▆▆▆▆▇▇▇▇▇▇▇▇▇▇▇▇███████</td></tr><tr><td>train_r2_score_8</td><td>▁▆▇▇▇▇███████████████████</td></tr><tr><td>train_r2_score_9</td><td>▁▆▆▇▇▇▇▇▇████████████████</td></tr><tr><td>trainer/global_step</td><td>▁▁▁▁▂▂▂▂▂▂▃▃▃▃▃▄▄▄▄▄▅▅▅▅▅▅▅▅▆▆▆▆▇▇▇▇▇▇▇█</td></tr><tr><td>valid_loss</td><td>▄▁█▂▃</td></tr><tr><td>valid_loss_0</td><td>▄▁▃▅█</td></tr><tr><td>valid_loss_1</td><td>▁▂▆▆█</td></tr><tr><td>valid_loss_10</td><td>▆▄█▄▁</td></tr><tr><td>valid_loss_11</td><td>▃▂█▂▁</td></tr><tr><td>valid_loss_12</td><td>▄▄█▂▁</td></tr><tr><td>valid_loss_13</td><td>▃▂█▂▁</td></tr><tr><td>valid_loss_14</td><td>▁▁▃▂█</td></tr><tr><td>valid_loss_15</td><td>█▅▁▃▆</td></tr><tr><td>valid_loss_16</td><td>▇██▁▁</td></tr><tr><td>valid_loss_17</td><td>▄▅█▁▁</td></tr><tr><td>valid_loss_18</td><td>▁▄▅▆█</td></tr><tr><td>valid_loss_19</td><td>█▁█▆█</td></tr><tr><td>valid_loss_2</td><td>█▂▁▁▃</td></tr><tr><td>valid_loss_20</td><td>▅█▁▅▅</td></tr><tr><td>valid_loss_21</td><td>▆▂▁▁█</td></tr><tr><td>valid_loss_22</td><td>▂▄▁█▆</td></tr><tr><td>valid_loss_23</td><td>█▄▁▂▂</td></tr><tr><td>valid_loss_24</td><td>▄▁▂▇█</td></tr><tr><td>valid_loss_25</td><td>█▃▇▇▁</td></tr><tr><td>valid_loss_26</td><td>█▁▂▅▂</td></tr><tr><td>valid_loss_27</td><td>█▁▁▂▃</td></tr><tr><td>valid_loss_28</td><td>█▅▁▃▁</td></tr><tr><td>valid_loss_29</td><td>▆▁▄▄█</td></tr><tr><td>valid_loss_3</td><td>▁▃▂▆█</td></tr><tr><td>valid_loss_30</td><td>█▁▄▃▆</td></tr><tr><td>valid_loss_31</td><td>▁▁▄██</td></tr><tr><td>valid_loss_32</td><td>▄▂█▂▁</td></tr><tr><td>valid_loss_33</td><td>▄▃█▄▁</td></tr><tr><td>valid_loss_34</td><td>▁▆█▅▇</td></tr><tr><td>valid_loss_35</td><td>█▂▂▁▁</td></tr><tr><td>valid_loss_36</td><td>▅▁▂▁█</td></tr><tr><td>valid_loss_37</td><td>▄▃█▁▂</td></tr><tr><td>valid_loss_38</td><td>▃▅█▂▁</td></tr><tr><td>valid_loss_4</td><td>▁▁▆█▇</td></tr><tr><td>valid_loss_5</td><td>▅▂▁▃█</td></tr><tr><td>valid_loss_6</td><td>▁▃▄▆█</td></tr><tr><td>valid_loss_7</td><td>▇▁▃▂█</td></tr><tr><td>valid_loss_8</td><td>▇▇█▁▁</td></tr><tr><td>valid_loss_9</td><td>▃▄█▂▁</td></tr><tr><td>valid_mean_squared_error</td><td>▄▁█▂▃</td></tr><tr><td>valid_mean_squared_error_0</td><td>▄▁▃▅█</td></tr><tr><td>valid_mean_squared_error_1</td><td>▁▂▆▆█</td></tr><tr><td>valid_mean_squared_error_10</td><td>▆▄█▄▁</td></tr><tr><td>valid_mean_squared_error_11</td><td>▃▂█▂▁</td></tr><tr><td>valid_mean_squared_error_12</td><td>▄▄█▂▁</td></tr><tr><td>valid_mean_squared_error_13</td><td>▃▂█▂▁</td></tr><tr><td>valid_mean_squared_error_14</td><td>▁▁▃▂█</td></tr><tr><td>valid_mean_squared_error_15</td><td>█▅▁▃▆</td></tr><tr><td>valid_mean_squared_error_16</td><td>▇██▁▁</td></tr><tr><td>valid_mean_squared_error_17</td><td>▄▅█▁▁</td></tr><tr><td>valid_mean_squared_error_18</td><td>▁▄▅▆█</td></tr><tr><td>valid_mean_squared_error_19</td><td>█▁█▆█</td></tr><tr><td>valid_mean_squared_error_2</td><td>█▂▁▁▃</td></tr><tr><td>valid_mean_squared_error_20</td><td>▅█▁▅▅</td></tr><tr><td>valid_mean_squared_error_21</td><td>▆▂▁▁█</td></tr><tr><td>valid_mean_squared_error_22</td><td>▂▄▁█▆</td></tr><tr><td>valid_mean_squared_error_23</td><td>█▄▁▂▂</td></tr><tr><td>valid_mean_squared_error_24</td><td>▄▁▂▇█</td></tr><tr><td>valid_mean_squared_error_25</td><td>█▃▇▇▁</td></tr><tr><td>valid_mean_squared_error_26</td><td>█▁▂▅▂</td></tr><tr><td>valid_mean_squared_error_27</td><td>█▁▁▂▃</td></tr><tr><td>valid_mean_squared_error_28</td><td>█▅▁▃▁</td></tr><tr><td>valid_mean_squared_error_29</td><td>▆▁▄▄█</td></tr><tr><td>valid_mean_squared_error_3</td><td>▁▃▂▆█</td></tr><tr><td>valid_mean_squared_error_30</td><td>█▁▄▃▆</td></tr><tr><td>valid_mean_squared_error_31</td><td>▁▁▄██</td></tr><tr><td>valid_mean_squared_error_32</td><td>▄▂█▂▁</td></tr><tr><td>valid_mean_squared_error_33</td><td>▄▃█▄▁</td></tr><tr><td>valid_mean_squared_error_34</td><td>▁▆█▅▇</td></tr><tr><td>valid_mean_squared_error_35</td><td>█▂▂▁▁</td></tr><tr><td>valid_mean_squared_error_36</td><td>▅▁▂▁█</td></tr><tr><td>valid_mean_squared_error_37</td><td>▄▃█▁▂</td></tr><tr><td>valid_mean_squared_error_38</td><td>▃▅█▂▁</td></tr><tr><td>valid_mean_squared_error_4</td><td>▁▁▆█▇</td></tr><tr><td>valid_mean_squared_error_5</td><td>▅▂▁▃█</td></tr><tr><td>valid_mean_squared_error_6</td><td>▁▃▄▆█</td></tr><tr><td>valid_mean_squared_error_7</td><td>▇▁▃▂█</td></tr><tr><td>valid_mean_squared_error_8</td><td>▇▇█▁▁</td></tr><tr><td>valid_mean_squared_error_9</td><td>▃▄█▂▁</td></tr><tr><td>valid_r2_score</td><td>▅█▁█▇</td></tr><tr><td>valid_r2_score_0</td><td>▅█▆▄▁</td></tr><tr><td>valid_r2_score_1</td><td>█▇▃▃▁</td></tr><tr><td>valid_r2_score_10</td><td>▃▅▁▅█</td></tr><tr><td>valid_r2_score_11</td><td>▆▇▁██</td></tr><tr><td>valid_r2_score_12</td><td>▅▅▁▇█</td></tr><tr><td>valid_r2_score_13</td><td>▆▇▁▇█</td></tr><tr><td>valid_r2_score_14</td><td>██▇█▁</td></tr><tr><td>valid_r2_score_15</td><td>▁▄█▆▃</td></tr><tr><td>valid_r2_score_16</td><td>▂▁▁██</td></tr><tr><td>valid_r2_score_17</td><td>▅▄▁██</td></tr><tr><td>valid_r2_score_18</td><td>█▅▄▃▁</td></tr><tr><td>valid_r2_score_19</td><td>▁█▂▂▁</td></tr><tr><td>valid_r2_score_2</td><td>▁▇██▆</td></tr><tr><td>valid_r2_score_20</td><td>▄▁█▄▄</td></tr><tr><td>valid_r2_score_21</td><td>▄▇█▇▁</td></tr><tr><td>valid_r2_score_22</td><td>▇▅█▁▃</td></tr><tr><td>valid_r2_score_23</td><td>▁▅█▇▇</td></tr><tr><td>valid_r2_score_24</td><td>▅█▇▂▁</td></tr><tr><td>valid_r2_score_25</td><td>▁▇▂▃█</td></tr><tr><td>valid_r2_score_26</td><td>▁█▇▄▇</td></tr><tr><td>valid_r2_score_27</td><td>▁██▇▆</td></tr><tr><td>valid_r2_score_28</td><td>▁▄█▆█</td></tr><tr><td>valid_r2_score_29</td><td>▃█▅▅▁</td></tr><tr><td>valid_r2_score_3</td><td>█▆▇▃▁</td></tr><tr><td>valid_r2_score_30</td><td>▁█▅▆▃</td></tr><tr><td>valid_r2_score_31</td><td>▇█▇▂▁</td></tr><tr><td>valid_r2_score_32</td><td>▅▆▁▇█</td></tr><tr><td>valid_r2_score_33</td><td>▅▆▁▅█</td></tr><tr><td>valid_r2_score_34</td><td>█▄▁▄▃</td></tr><tr><td>valid_r2_score_35</td><td>▁▇▇██</td></tr><tr><td>valid_r2_score_36</td><td>▄█▇█▁</td></tr><tr><td>valid_r2_score_37</td><td>▅▆▁█▇</td></tr><tr><td>valid_r2_score_38</td><td>▆▄▁▇█</td></tr><tr><td>valid_r2_score_4</td><td>██▃▁▃</td></tr><tr><td>valid_r2_score_5</td><td>▄▇█▆▁</td></tr><tr><td>valid_r2_score_6</td><td>█▆▅▃▁</td></tr><tr><td>valid_r2_score_7</td><td>▁█▆█▁</td></tr><tr><td>valid_r2_score_8</td><td>▂▂▁██</td></tr><tr><td>valid_r2_score_9</td><td>▆▅▁▇█</td></tr></table><br/></div><div class=\"wandb-col\"><h3>Run summary:</h3><br/><table class=\"wandb\"><tr><td>epoch</td><td>24</td></tr><tr><td>train_loss</td><td>0.75888</td></tr><tr><td>train_loss_0</td><td>0.03178</td></tr><tr><td>train_loss_1</td><td>0.02919</td></tr><tr><td>train_loss_10</td><td>0.00918</td></tr><tr><td>train_loss_11</td><td>0.00852</td></tr><tr><td>train_loss_12</td><td>0.0096</td></tr><tr><td>train_loss_13</td><td>0.01377</td></tr><tr><td>train_loss_14</td><td>0.00848</td></tr><tr><td>train_loss_15</td><td>0.00661</td></tr><tr><td>train_loss_16</td><td>0.01323</td></tr><tr><td>train_loss_17</td><td>0.01037</td></tr><tr><td>train_loss_18</td><td>0.02238</td></tr><tr><td>train_loss_19</td><td>0.0219</td></tr><tr><td>train_loss_2</td><td>0.03632</td></tr><tr><td>train_loss_20</td><td>0.01289</td></tr><tr><td>train_loss_21</td><td>0.00986</td></tr><tr><td>train_loss_22</td><td>0.01383</td></tr><tr><td>train_loss_23</td><td>0.01037</td></tr><tr><td>train_loss_24</td><td>0.01059</td></tr><tr><td>train_loss_25</td><td>0.01202</td></tr><tr><td>train_loss_26</td><td>0.00276</td></tr><tr><td>train_loss_27</td><td>0.00362</td></tr><tr><td>train_loss_28</td><td>0.00458</td></tr><tr><td>train_loss_29</td><td>0.05174</td></tr><tr><td>train_loss_3</td><td>0.0375</td></tr><tr><td>train_loss_30</td><td>0.01513</td></tr><tr><td>train_loss_31</td><td>0.04351</td></tr><tr><td>train_loss_32</td><td>0.01024</td></tr><tr><td>train_loss_33</td><td>0.01479</td></tr><tr><td>train_loss_34</td><td>0.0217</td></tr><tr><td>train_loss_35</td><td>0.01998</td></tr><tr><td>train_loss_36</td><td>0.02134</td></tr><tr><td>train_loss_37</td><td>0.01847</td></tr><tr><td>train_loss_38</td><td>0.01494</td></tr><tr><td>train_loss_4</td><td>0.04213</td></tr><tr><td>train_loss_5</td><td>0.04219</td></tr><tr><td>train_loss_6</td><td>0.03339</td></tr><tr><td>train_loss_7</td><td>0.04579</td></tr><tr><td>train_loss_8</td><td>0.00982</td></tr><tr><td>train_loss_9</td><td>0.01565</td></tr><tr><td>train_mean_squared_error</td><td>0.76014</td></tr><tr><td>train_mean_squared_error_0</td><td>0.03178</td></tr><tr><td>train_mean_squared_error_1</td><td>0.02919</td></tr><tr><td>train_mean_squared_error_10</td><td>0.00918</td></tr><tr><td>train_mean_squared_error_11</td><td>0.00852</td></tr><tr><td>train_mean_squared_error_12</td><td>0.0096</td></tr><tr><td>train_mean_squared_error_13</td><td>0.01377</td></tr><tr><td>train_mean_squared_error_14</td><td>0.00848</td></tr><tr><td>train_mean_squared_error_15</td><td>0.00661</td></tr><tr><td>train_mean_squared_error_16</td><td>0.01323</td></tr><tr><td>train_mean_squared_error_17</td><td>0.01037</td></tr><tr><td>train_mean_squared_error_18</td><td>0.02238</td></tr><tr><td>train_mean_squared_error_19</td><td>0.0219</td></tr><tr><td>train_mean_squared_error_2</td><td>0.03632</td></tr><tr><td>train_mean_squared_error_20</td><td>0.01289</td></tr><tr><td>train_mean_squared_error_21</td><td>0.00986</td></tr><tr><td>train_mean_squared_error_22</td><td>0.01383</td></tr><tr><td>train_mean_squared_error_23</td><td>0.01037</td></tr><tr><td>train_mean_squared_error_24</td><td>0.01059</td></tr><tr><td>train_mean_squared_error_25</td><td>0.01202</td></tr><tr><td>train_mean_squared_error_26</td><td>0.00276</td></tr><tr><td>train_mean_squared_error_27</td><td>0.00362</td></tr><tr><td>train_mean_squared_error_28</td><td>0.00458</td></tr><tr><td>train_mean_squared_error_29</td><td>0.05174</td></tr><tr><td>train_mean_squared_error_3</td><td>0.0375</td></tr><tr><td>train_mean_squared_error_30</td><td>0.01513</td></tr><tr><td>train_mean_squared_error_31</td><td>0.04351</td></tr><tr><td>train_mean_squared_error_32</td><td>0.01024</td></tr><tr><td>train_mean_squared_error_33</td><td>0.01479</td></tr><tr><td>train_mean_squared_error_34</td><td>0.0217</td></tr><tr><td>train_mean_squared_error_35</td><td>0.01998</td></tr><tr><td>train_mean_squared_error_36</td><td>0.02134</td></tr><tr><td>train_mean_squared_error_37</td><td>0.01847</td></tr><tr><td>train_mean_squared_error_38</td><td>0.01494</td></tr><tr><td>train_mean_squared_error_4</td><td>0.04213</td></tr><tr><td>train_mean_squared_error_5</td><td>0.04219</td></tr><tr><td>train_mean_squared_error_6</td><td>0.03339</td></tr><tr><td>train_mean_squared_error_7</td><td>0.04579</td></tr><tr><td>train_mean_squared_error_8</td><td>0.00982</td></tr><tr><td>train_mean_squared_error_9</td><td>0.01565</td></tr><tr><td>train_r2_score</td><td>28.17881</td></tr><tr><td>train_r2_score_0</td><td>0.69909</td></tr><tr><td>train_r2_score_1</td><td>0.70737</td></tr><tr><td>train_r2_score_10</td><td>0.84033</td></tr><tr><td>train_r2_score_11</td><td>0.84829</td></tr><tr><td>train_r2_score_12</td><td>0.83585</td></tr><tr><td>train_r2_score_13</td><td>0.7801</td></tr><tr><td>train_r2_score_14</td><td>0.83118</td></tr><tr><td>train_r2_score_15</td><td>0.868</td></tr><tr><td>train_r2_score_16</td><td>0.71959</td></tr><tr><td>train_r2_score_17</td><td>0.76815</td></tr><tr><td>train_r2_score_18</td><td>0.65551</td></tr><tr><td>train_r2_score_19</td><td>0.68152</td></tr><tr><td>train_r2_score_2</td><td>0.65262</td></tr><tr><td>train_r2_score_20</td><td>0.79802</td></tr><tr><td>train_r2_score_21</td><td>0.84467</td></tr><tr><td>train_r2_score_22</td><td>0.78534</td></tr><tr><td>train_r2_score_23</td><td>0.83317</td></tr><tr><td>train_r2_score_24</td><td>0.80837</td></tr><tr><td>train_r2_score_25</td><td>0.76523</td></tr><tr><td>train_r2_score_26</td><td>0.92565</td></tr><tr><td>train_r2_score_27</td><td>0.90213</td></tr><tr><td>train_r2_score_28</td><td>0.86095</td></tr><tr><td>train_r2_score_29</td><td>0.47888</td></tr><tr><td>train_r2_score_3</td><td>0.62418</td></tr><tr><td>train_r2_score_30</td><td>0.72867</td></tr><tr><td>train_r2_score_31</td><td>0.36631</td></tr><tr><td>train_r2_score_32</td><td>0.70868</td></tr><tr><td>train_r2_score_33</td><td>0.71921</td></tr><tr><td>train_r2_score_34</td><td>0.57892</td></tr><tr><td>train_r2_score_35</td><td>0.62374</td></tr><tr><td>train_r2_score_36</td><td>0.63462</td></tr><tr><td>train_r2_score_37</td><td>0.6292</td></tr><tr><td>train_r2_score_38</td><td>0.71161</td></tr><tr><td>train_r2_score_4</td><td>0.62291</td></tr><tr><td>train_r2_score_5</td><td>0.60052</td></tr><tr><td>train_r2_score_6</td><td>0.65632</td></tr><tr><td>train_r2_score_7</td><td>0.50279</td></tr><tr><td>train_r2_score_8</td><td>0.83387</td></tr><tr><td>train_r2_score_9</td><td>0.74724</td></tr><tr><td>trainer/global_step</td><td>1949</td></tr><tr><td>valid_loss</td><td>0.78034</td></tr><tr><td>valid_loss_0</td><td>0.03664</td></tr><tr><td>valid_loss_1</td><td>0.0318</td></tr><tr><td>valid_loss_10</td><td>0.00738</td></tr><tr><td>valid_loss_11</td><td>0.00765</td></tr><tr><td>valid_loss_12</td><td>0.00808</td></tr><tr><td>valid_loss_13</td><td>0.01141</td></tr><tr><td>valid_loss_14</td><td>0.00835</td></tr><tr><td>valid_loss_15</td><td>0.00713</td></tr><tr><td>valid_loss_16</td><td>0.00999</td></tr><tr><td>valid_loss_17</td><td>0.00796</td></tr><tr><td>valid_loss_18</td><td>0.02363</td></tr><tr><td>valid_loss_19</td><td>0.02153</td></tr><tr><td>valid_loss_2</td><td>0.04002</td></tr><tr><td>valid_loss_20</td><td>0.01477</td></tr><tr><td>valid_loss_21</td><td>0.0104</td></tr><tr><td>valid_loss_22</td><td>0.01509</td></tr><tr><td>valid_loss_23</td><td>0.01129</td></tr><tr><td>valid_loss_24</td><td>0.01186</td></tr><tr><td>valid_loss_25</td><td>0.01197</td></tr><tr><td>valid_loss_26</td><td>0.00236</td></tr><tr><td>valid_loss_27</td><td>0.00353</td></tr><tr><td>valid_loss_28</td><td>0.0038</td></tr><tr><td>valid_loss_29</td><td>0.05782</td></tr><tr><td>valid_loss_3</td><td>0.04261</td></tr><tr><td>valid_loss_30</td><td>0.01472</td></tr><tr><td>valid_loss_31</td><td>0.044</td></tr><tr><td>valid_loss_32</td><td>0.00881</td></tr><tr><td>valid_loss_33</td><td>0.01275</td></tr><tr><td>valid_loss_34</td><td>0.02218</td></tr><tr><td>valid_loss_35</td><td>0.01963</td></tr><tr><td>valid_loss_36</td><td>0.02181</td></tr><tr><td>valid_loss_37</td><td>0.01704</td></tr><tr><td>valid_loss_38</td><td>0.01286</td></tr><tr><td>valid_loss_4</td><td>0.04474</td></tr><tr><td>valid_loss_5</td><td>0.04696</td></tr><tr><td>valid_loss_6</td><td>0.03705</td></tr><tr><td>valid_loss_7</td><td>0.05051</td></tr><tr><td>valid_loss_8</td><td>0.00759</td></tr><tr><td>valid_loss_9</td><td>0.0126</td></tr><tr><td>valid_mean_squared_error</td><td>0.78034</td></tr><tr><td>valid_mean_squared_error_0</td><td>0.03664</td></tr><tr><td>valid_mean_squared_error_1</td><td>0.0318</td></tr><tr><td>valid_mean_squared_error_10</td><td>0.00738</td></tr><tr><td>valid_mean_squared_error_11</td><td>0.00765</td></tr><tr><td>valid_mean_squared_error_12</td><td>0.00808</td></tr><tr><td>valid_mean_squared_error_13</td><td>0.01141</td></tr><tr><td>valid_mean_squared_error_14</td><td>0.00835</td></tr><tr><td>valid_mean_squared_error_15</td><td>0.00713</td></tr><tr><td>valid_mean_squared_error_16</td><td>0.00999</td></tr><tr><td>valid_mean_squared_error_17</td><td>0.00796</td></tr><tr><td>valid_mean_squared_error_18</td><td>0.02363</td></tr><tr><td>valid_mean_squared_error_19</td><td>0.02153</td></tr><tr><td>valid_mean_squared_error_2</td><td>0.04002</td></tr><tr><td>valid_mean_squared_error_20</td><td>0.01477</td></tr><tr><td>valid_mean_squared_error_21</td><td>0.0104</td></tr><tr><td>valid_mean_squared_error_22</td><td>0.01509</td></tr><tr><td>valid_mean_squared_error_23</td><td>0.01129</td></tr><tr><td>valid_mean_squared_error_24</td><td>0.01186</td></tr><tr><td>valid_mean_squared_error_25</td><td>0.01197</td></tr><tr><td>valid_mean_squared_error_26</td><td>0.00236</td></tr><tr><td>valid_mean_squared_error_27</td><td>0.00353</td></tr><tr><td>valid_mean_squared_error_28</td><td>0.0038</td></tr><tr><td>valid_mean_squared_error_29</td><td>0.05782</td></tr><tr><td>valid_mean_squared_error_3</td><td>0.04261</td></tr><tr><td>valid_mean_squared_error_30</td><td>0.01472</td></tr><tr><td>valid_mean_squared_error_31</td><td>0.044</td></tr><tr><td>valid_mean_squared_error_32</td><td>0.00881</td></tr><tr><td>valid_mean_squared_error_33</td><td>0.01275</td></tr><tr><td>valid_mean_squared_error_34</td><td>0.02218</td></tr><tr><td>valid_mean_squared_error_35</td><td>0.01963</td></tr><tr><td>valid_mean_squared_error_36</td><td>0.02181</td></tr><tr><td>valid_mean_squared_error_37</td><td>0.01704</td></tr><tr><td>valid_mean_squared_error_38</td><td>0.01286</td></tr><tr><td>valid_mean_squared_error_4</td><td>0.04474</td></tr><tr><td>valid_mean_squared_error_5</td><td>0.04696</td></tr><tr><td>valid_mean_squared_error_6</td><td>0.03705</td></tr><tr><td>valid_mean_squared_error_7</td><td>0.05051</td></tr><tr><td>valid_mean_squared_error_8</td><td>0.00759</td></tr><tr><td>valid_mean_squared_error_9</td><td>0.0126</td></tr><tr><td>valid_r2_score</td><td>28.31207</td></tr><tr><td>valid_r2_score_0</td><td>0.6482</td></tr><tr><td>valid_r2_score_1</td><td>0.6847</td></tr><tr><td>valid_r2_score_10</td><td>0.88229</td></tr><tr><td>valid_r2_score_11</td><td>0.87685</td></tr><tr><td>valid_r2_score_12</td><td>0.87065</td></tr><tr><td>valid_r2_score_13</td><td>0.82484</td></tr><tr><td>valid_r2_score_14</td><td>0.84777</td></tr><tr><td>valid_r2_score_15</td><td>0.87118</td></tr><tr><td>valid_r2_score_16</td><td>0.79331</td></tr><tr><td>valid_r2_score_17</td><td>0.82574</td></tr><tr><td>valid_r2_score_18</td><td>0.6398</td></tr><tr><td>valid_r2_score_19</td><td>0.68683</td></tr><tr><td>valid_r2_score_2</td><td>0.62293</td></tr><tr><td>valid_r2_score_20</td><td>0.78976</td></tr><tr><td>valid_r2_score_21</td><td>0.84548</td></tr><tr><td>valid_r2_score_22</td><td>0.78611</td></tr><tr><td>valid_r2_score_23</td><td>0.83936</td></tr><tr><td>valid_r2_score_24</td><td>0.80926</td></tr><tr><td>valid_r2_score_25</td><td>0.78488</td></tr><tr><td>valid_r2_score_26</td><td>0.94512</td></tr><tr><td>valid_r2_score_27</td><td>0.91904</td></tr><tr><td>valid_r2_score_28</td><td>0.8983</td></tr><tr><td>valid_r2_score_29</td><td>0.39997</td></tr><tr><td>valid_r2_score_3</td><td>0.57566</td></tr><tr><td>valid_r2_score_30</td><td>0.73756</td></tr><tr><td>valid_r2_score_31</td><td>0.29088</td></tr><tr><td>valid_r2_score_32</td><td>0.77924</td></tr><tr><td>valid_r2_score_33</td><td>0.76479</td></tr><tr><td>valid_r2_score_34</td><td>0.56486</td></tr><tr><td>valid_r2_score_35</td><td>0.62403</td></tr><tr><td>valid_r2_score_36</td><td>0.61919</td></tr><tr><td>valid_r2_score_37</td><td>0.64915</td></tr><tr><td>valid_r2_score_38</td><td>0.73884</td></tr><tr><td>valid_r2_score_4</td><td>0.59289</td></tr><tr><td>valid_r2_score_5</td><td>0.552</td></tr><tr><td>valid_r2_score_6</td><td>0.61781</td></tr><tr><td>valid_r2_score_7</td><td>0.43601</td></tr><tr><td>valid_r2_score_8</td><td>0.87975</td></tr><tr><td>valid_r2_score_9</td><td>0.79704</td></tr></table><br/></div></div>"
      ],
      "text/plain": [
       "<IPython.core.display.HTML object>"
      ]
     },
     "metadata": {},
     "output_type": "display_data"
    },
    {
     "data": {
      "text/html": [
       " View run <strong style=\"color:#cdcd00\">run_2025-04-12_1255</strong> at: <a href='https://wandb.ai/catherine-chahrour-university-of-oxford/GANDALF_multilabel_regression_promoters_512bp_MLL-N/runs/mkoobhhu' target=\"_blank\">https://wandb.ai/catherine-chahrour-university-of-oxford/GANDALF_multilabel_regression_promoters_512bp_MLL-N/runs/mkoobhhu</a><br> View project at: <a href='https://wandb.ai/catherine-chahrour-university-of-oxford/GANDALF_multilabel_regression_promoters_512bp_MLL-N' target=\"_blank\">https://wandb.ai/catherine-chahrour-university-of-oxford/GANDALF_multilabel_regression_promoters_512bp_MLL-N</a><br>Synced 5 W&B file(s), 1 media file(s), 0 artifact file(s) and 0 other file(s)"
      ],
      "text/plain": [
       "<IPython.core.display.HTML object>"
      ]
     },
     "metadata": {},
     "output_type": "display_data"
    },
    {
     "data": {
      "text/html": [
       "Find logs at: <code>results/GANDALF_multilabel_regression_promoters_512bp_MLL-N/wandb/run-20250412_125517-mkoobhhu/logs</code>"
      ],
      "text/plain": [
       "<IPython.core.display.HTML object>"
      ]
     },
     "metadata": {},
     "output_type": "display_data"
    },
    {
     "name": "stderr",
     "output_type": "stream",
     "text": [
      "\u001b[34m\u001b[1mwandb\u001b[0m: Agent Starting Run: pkzti2h6 with config:\n",
      "\u001b[34m\u001b[1mwandb\u001b[0m: \tbatch_size: 4096\n",
      "\u001b[34m\u001b[1mwandb\u001b[0m: \tembedding_dropout: 0.11477611047734022\n",
      "\u001b[34m\u001b[1mwandb\u001b[0m: \tgflu_dropout: 0.04078780581016408\n",
      "\u001b[34m\u001b[1mwandb\u001b[0m: \tgflu_feature_init_sparsity: 0.19705211061760664\n",
      "\u001b[34m\u001b[1mwandb\u001b[0m: \tgflu_stages: 9\n",
      "\u001b[34m\u001b[1mwandb\u001b[0m: \tmax_epochs: 180\n"
     ]
    },
    {
     "data": {
      "text/html": [
       "Tracking run with wandb version 0.19.7.dev1"
      ],
      "text/plain": [
       "<IPython.core.display.HTML object>"
      ]
     },
     "metadata": {},
     "output_type": "display_data"
    },
    {
     "data": {
      "text/html": [
       "Run data is saved locally in <code>results/GANDALF_multilabel_regression_promoters_512bp_MLL-N/wandb/run-20250412_130925-pkzti2h6</code>"
      ],
      "text/plain": [
       "<IPython.core.display.HTML object>"
      ]
     },
     "metadata": {},
     "output_type": "display_data"
    },
    {
     "data": {
      "text/html": [
       "Syncing run <strong><a href='https://wandb.ai/catherine-chahrour-university-of-oxford/GANDALF_multilabel_regression_promoters_512bp_MLL-N/runs/pkzti2h6' target=\"_blank\">run_2025-04-12_1255</a></strong> to <a href='https://wandb.ai/catherine-chahrour-university-of-oxford/GANDALF_multilabel_regression_promoters_512bp_MLL-N' target=\"_blank\">Weights & Biases</a> (<a href='https://wandb.me/developer-guide' target=\"_blank\">docs</a>)<br>Sweep page: <a href='https://wandb.ai/catherine-chahrour-university-of-oxford/GANDALF_multilabel_regression_promoters_512bp_MLL-N/sweeps/bt06mu84' target=\"_blank\">https://wandb.ai/catherine-chahrour-university-of-oxford/GANDALF_multilabel_regression_promoters_512bp_MLL-N/sweeps/bt06mu84</a>"
      ],
      "text/plain": [
       "<IPython.core.display.HTML object>"
      ]
     },
     "metadata": {},
     "output_type": "display_data"
    },
    {
     "data": {
      "text/html": [
       " View project at <a href='https://wandb.ai/catherine-chahrour-university-of-oxford/GANDALF_multilabel_regression_promoters_512bp_MLL-N' target=\"_blank\">https://wandb.ai/catherine-chahrour-university-of-oxford/GANDALF_multilabel_regression_promoters_512bp_MLL-N</a>"
      ],
      "text/plain": [
       "<IPython.core.display.HTML object>"
      ]
     },
     "metadata": {},
     "output_type": "display_data"
    },
    {
     "data": {
      "text/html": [
       " View sweep at <a href='https://wandb.ai/catherine-chahrour-university-of-oxford/GANDALF_multilabel_regression_promoters_512bp_MLL-N/sweeps/bt06mu84' target=\"_blank\">https://wandb.ai/catherine-chahrour-university-of-oxford/GANDALF_multilabel_regression_promoters_512bp_MLL-N/sweeps/bt06mu84</a>"
      ],
      "text/plain": [
       "<IPython.core.display.HTML object>"
      ]
     },
     "metadata": {},
     "output_type": "display_data"
    },
    {
     "data": {
      "text/html": [
       " View run at <a href='https://wandb.ai/catherine-chahrour-university-of-oxford/GANDALF_multilabel_regression_promoters_512bp_MLL-N/runs/pkzti2h6' target=\"_blank\">https://wandb.ai/catherine-chahrour-university-of-oxford/GANDALF_multilabel_regression_promoters_512bp_MLL-N/runs/pkzti2h6</a>"
      ],
      "text/plain": [
       "<IPython.core.display.HTML object>"
      ]
     },
     "metadata": {},
     "output_type": "display_data"
    },
    {
     "data": {
      "text/html": [
       "<pre style=\"white-space:pre;overflow-x:auto;line-height:normal;font-family:Menlo,'DejaVu Sans Mono',consolas,'Courier New',monospace\"><span style=\"color: #008080; text-decoration-color: #008080; font-weight: bold\">2025</span>-<span style=\"color: #008080; text-decoration-color: #008080; font-weight: bold\">04</span>-<span style=\"color: #008080; text-decoration-color: #008080; font-weight: bold\">12</span> <span style=\"color: #00ff00; text-decoration-color: #00ff00; font-weight: bold\">13:09:26</span>,<span style=\"color: #008080; text-decoration-color: #008080; font-weight: bold\">784</span> - <span style=\"font-weight: bold\">{</span>pytorch_tabular.models.gandalf.gandal<span style=\"color: #00ff00; text-decoration-color: #00ff00; font-weight: bold\">f:109</span><span style=\"font-weight: bold\">}</span> - INFO - Data Aware Initialization of T0    \n",
       "</pre>\n"
      ],
      "text/plain": [
       "\u001b[1;36m2025\u001b[0m-\u001b[1;36m04\u001b[0m-\u001b[1;36m12\u001b[0m \u001b[1;92m13:09:26\u001b[0m,\u001b[1;36m784\u001b[0m - \u001b[1m{\u001b[0mpytorch_tabular.models.gandalf.gandal\u001b[1;92mf:109\u001b[0m\u001b[1m}\u001b[0m - INFO - Data Aware Initialization of T0    \n"
      ]
     },
     "metadata": {},
     "output_type": "display_data"
    },
    {
     "name": "stderr",
     "output_type": "stream",
     "text": [
      "Exception ignored in: <function _ConnectionBase.__del__ at 0x1290ca8e0>\n",
      "Traceback (most recent call last):\n",
      "  File \"/Users/catherine/miniforge3/envs/stack/lib/python3.13/multiprocessing/connection.py\", line 133, in __del__\n",
      "    self._close()\n",
      "  File \"/Users/catherine/miniforge3/envs/stack/lib/python3.13/multiprocessing/connection.py\", line 377, in _close\n",
      "    _close(self._handle)\n",
      "OSError: [Errno 9] Bad file descriptor\n",
      "/Users/catherine/miniforge3/envs/stack/lib/python3.13/site-packages/pytorch_lightning/loggers/wandb.py:396: There is a wandb run already in progress and newly created instances of `WandbLogger` will reuse this run. If this is not desired, call `wandb.finish()` before instantiating `WandbLogger`.\n",
      "\u001b[34m\u001b[1mwandb\u001b[0m: logging graph, to disable use `wandb.watch(log_graph=False)`\n",
      "/Users/catherine/miniforge3/envs/stack/lib/python3.13/site-packages/pytorch_lightning/callbacks/model_checkpoint.py:654: Checkpoint directory /Users/catherine/GMS/project/models/2025-04-11_gandalf/results/GANDALF_multilabel_regression_promoters_512bp_MLL-N/checkpoints exists and is not empty.\n",
      "/Users/catherine/miniforge3/envs/stack/lib/python3.13/site-packages/pytorch_lightning/loops/fit_loop.py:298: The number of training batches (10) is smaller than the logging interval Trainer(log_every_n_steps=50). Set a lower value for log_every_n_steps if you want to see logs for the training epoch.\n"
     ]
    },
    {
     "data": {
      "application/vnd.jupyter.widget-view+json": {
       "model_id": "b694bfe4dba54dffb012b35b75c34f46",
       "version_major": 2,
       "version_minor": 0
      },
      "text/plain": [
       "Finding best initial lr:   0%|          | 0/100 [00:00<?, ?it/s]"
      ]
     },
     "metadata": {},
     "output_type": "display_data"
    },
    {
     "data": {
      "text/html": [
       "<pre style=\"white-space:pre;overflow-x:auto;line-height:normal;font-family:Menlo,'DejaVu Sans Mono',consolas,'Courier New',monospace\"><span style=\"color: #008080; text-decoration-color: #008080; font-weight: bold\">2025</span>-<span style=\"color: #008080; text-decoration-color: #008080; font-weight: bold\">04</span>-<span style=\"color: #008080; text-decoration-color: #008080; font-weight: bold\">12</span> <span style=\"color: #00ff00; text-decoration-color: #00ff00; font-weight: bold\">13:13:03</span>,<span style=\"color: #008080; text-decoration-color: #008080; font-weight: bold\">716</span> - <span style=\"font-weight: bold\">{</span>pytorch_tabular.models.gandalf.gandal<span style=\"color: #00ff00; text-decoration-color: #00ff00; font-weight: bold\">f:109</span><span style=\"font-weight: bold\">}</span> - INFO - Data Aware Initialization of T0    \n",
       "</pre>\n"
      ],
      "text/plain": [
       "\u001b[1;36m2025\u001b[0m-\u001b[1;36m04\u001b[0m-\u001b[1;36m12\u001b[0m \u001b[1;92m13:13:03\u001b[0m,\u001b[1;36m716\u001b[0m - \u001b[1m{\u001b[0mpytorch_tabular.models.gandalf.gandal\u001b[1;92mf:109\u001b[0m\u001b[1m}\u001b[0m - INFO - Data Aware Initialization of T0    \n"
      ]
     },
     "metadata": {},
     "output_type": "display_data"
    },
    {
     "name": "stderr",
     "output_type": "stream",
     "text": [
      "\u001b[34m\u001b[1mwandb\u001b[0m: \u001b[33mWARNING\u001b[0m Config item 'embedding_dropout' was locked by 'sweep' (ignored update).\n",
      "\u001b[34m\u001b[1mwandb\u001b[0m: \u001b[33mWARNING\u001b[0m Config item 'gflu_stages' was locked by 'sweep' (ignored update).\n",
      "\u001b[34m\u001b[1mwandb\u001b[0m: \u001b[33mWARNING\u001b[0m Config item 'gflu_dropout' was locked by 'sweep' (ignored update).\n",
      "\u001b[34m\u001b[1mwandb\u001b[0m: \u001b[33mWARNING\u001b[0m Config item 'gflu_feature_init_sparsity' was locked by 'sweep' (ignored update).\n",
      "\u001b[34m\u001b[1mwandb\u001b[0m: \u001b[33mWARNING\u001b[0m Config item 'batch_size' was locked by 'sweep' (ignored update).\n",
      "\u001b[34m\u001b[1mwandb\u001b[0m: \u001b[33mWARNING\u001b[0m Config item 'max_epochs' was locked by 'sweep' (ignored update).\n"
     ]
    },
    {
     "data": {
      "application/vnd.jupyter.widget-view+json": {
       "model_id": "fab3a1725d724210abbb32705c0df8a8",
       "version_major": 2,
       "version_minor": 0
      },
      "text/plain": [
       "Output()"
      ]
     },
     "metadata": {},
     "output_type": "display_data"
    },
    {
     "data": {
      "text/html": [
       "<pre style=\"white-space:pre;overflow-x:auto;line-height:normal;font-family:Menlo,'DejaVu Sans Mono',consolas,'Courier New',monospace\"></pre>\n"
      ],
      "text/plain": []
     },
     "metadata": {},
     "output_type": "display_data"
    },
    {
     "name": "stderr",
     "output_type": "stream",
     "text": [
      "/Users/catherine/miniforge3/envs/stack/lib/python3.13/site-packages/pytorch_tabular/utils/python_utils.py:85: FutureWarning: You are using `torch.load` with `weights_only=False` (the current default value), which uses the default pickle module implicitly. It is possible to construct malicious pickle data which will execute arbitrary code during unpickling (See https://github.com/pytorch/pytorch/blob/main/SECURITY.md#untrusted-models for more details). In a future release, the default value for `weights_only` will be flipped to `True`. This limits the functions that could be executed during unpickling. Arbitrary objects will no longer be allowed to be loaded via this mode unless they are explicitly allowlisted by the user via `torch.serialization.add_safe_globals`. We recommend you start setting `weights_only=True` for any use case where you don't have full control of the loaded file. Please open an issue on GitHub for any issues related to this experimental feature.\n",
      "  return torch.load(f, map_location=map_location)\n"
     ]
    },
    {
     "data": {
      "text/html": [],
      "text/plain": [
       "<IPython.core.display.HTML object>"
      ]
     },
     "metadata": {},
     "output_type": "display_data"
    },
    {
     "data": {
      "text/html": [
       "<br>    <style><br>        .wandb-row {<br>            display: flex;<br>            flex-direction: row;<br>            flex-wrap: wrap;<br>            justify-content: flex-start;<br>            width: 100%;<br>        }<br>        .wandb-col {<br>            display: flex;<br>            flex-direction: column;<br>            flex-basis: 100%;<br>            flex: 1;<br>            padding: 10px;<br>        }<br>    </style><br><div class=\"wandb-row\"><div class=\"wandb-col\"><h3>Run history:</h3><br/><table class=\"wandb\"><tr><td>epoch</td><td>▁▁▁▂▂▂▂▂▃▃▃▃▃▃▄▄▄▄▄▄▅▅▅▅▅▆▆▆▆▆▇▇▇▇▇▇████</td></tr><tr><td>train_loss</td><td>█▄▃▃▁▂▂▂▁</td></tr><tr><td>train_loss_0</td><td>█▃▂▂▁▁▁▁▁▁▁▁▁▁▁▁▁▁▁▁▁▁▁▁▁▁▁▁▁▁▁▁▁▁▁▁▁▁▁▁</td></tr><tr><td>train_loss_1</td><td>█▃▂▂▁▁▁▁▁▁▁▁▁▁▁▁▁▁▁▁▁▁▁▁▁▁▁▁▁▁▁▁▁▁▁▁▁▁▁▁</td></tr><tr><td>train_loss_10</td><td>█▃▂▂▂▂▁▁▁▁▁▁▁▁▁▁▁▁▁▁▁▁▁▁▁▁▁▁▁▁▁▁▁▁▁▁▁▁▁▁</td></tr><tr><td>train_loss_11</td><td>█▅▃▂▂▂▂▂▁▁▁▁▁▁▁▁▁▁▁▁▁▁▁▁▁▁▁▁▁▁▁▁▁▁▁▁▁▁▁▁</td></tr><tr><td>train_loss_12</td><td>█▄▂▂▂▂▁▁▁▁▁▁▁▁▁▁▁▁▁▁▁▁▁▁▁▁▁▁▁▁▁▁▁▁▁▁▁▁▁▁</td></tr><tr><td>train_loss_13</td><td>█▅▃▂▂▂▂▂▁▁▁▁▁▁▁▁▁▁▁▁▁▁▁▁▁▁▁▁▁▁▁▁▁▁▁▁▁▁▁▁</td></tr><tr><td>train_loss_14</td><td>█▄▃▂▂▁▁▁▁▁▁▁▁▁▁▁▁▁▁▁▁▁▁▁▁▁▁▁▁▁▁▁▁▁▁▁▁▁▁▁</td></tr><tr><td>train_loss_15</td><td>█▄▂▂▁▁▁▁▁▁▁▁▁▁▁▁▁▁▁▁▁▁▁▁▁▁▁▁▁▁▁▁▁▁▁▁▁▁▁▁</td></tr><tr><td>train_loss_16</td><td>█▄▂▂▂▂▂▂▁▁▁▁▁▁▁▁▁▁▁▁▁▁▁▁▁▁▁▁▁▁▁▁▁▁▁▁▁▁▁▁</td></tr><tr><td>train_loss_17</td><td>█▄▂▂▂▂▂▁▁▁▁▁▁▁▁▁▁▁▁▁▁▁▁▁▁▁▁▁▁▁▁▁▁▁▁▁▁▁▁▁</td></tr><tr><td>train_loss_18</td><td>█▃▂▁▁▁▁▁▁▁▁▁▁▁▁▁▁▁▁▁▁▁▁▁▁▁▁▁▁▁▁▁▁▁▁▁▁▁▁▁</td></tr><tr><td>train_loss_19</td><td>█▃▂▂▁▁▁▁▁▁▁▁▁▁▁▁▁▁▁▁▁▁▁▁▁▁▁▁▁▁▁▁▁▁▁▁▁▁▁▁</td></tr><tr><td>train_loss_2</td><td>█▄▂▂▂▁▁▁▁▁▁▁▁▁▁▁▁▁▁▁▁▁▁▁▁▁▁▁▁▁▁▁▁▁▁▁▁▁▁▁</td></tr><tr><td>train_loss_20</td><td>█▃▂▂▂▁▁▁▁▁▁▁▁▁▁▁▁▁▁▁▁▁▁▁▁▁▁▁▁▁▁▁▁▁▁▁▁▁▁▁</td></tr><tr><td>train_loss_21</td><td>█▃▂▂▂▁▁▁▁▁▁▁▁▁▁▁▁▁▁▁▁▁▁▁▁▁▁▁▁▁▁▁▁▁▁▁▁▁▁▁</td></tr><tr><td>train_loss_22</td><td>█▃▂▂▂▁▁▁▁▁▁▁▁▁▁▁▁▁▁▁▁▁▁▁▁▁▁▁▁▁▁▁▁▁▁▁▁▁▁▁</td></tr><tr><td>train_loss_23</td><td>█▄▃▂▂▁▁▁▁▁▁▁▁▁▁▁▁▁▁▁▁▁▁▁▁▁▁▁▁▁▁▁▁▁▁▁▁▁▁▁</td></tr><tr><td>train_loss_24</td><td>█▄▃▂▂▁▁▁▁▁▁▁▁▁▁▁▁▁▁▁▁▁▁▁▁▁▁▁▁▁▁▁▁▁▁▁▁▁▁▁</td></tr><tr><td>train_loss_25</td><td>█▄▃▂▂▁▁▁▁▁▁▁▁▁▁▁▁▁▁▁▁▁▁▁▁▁▁▁▁▁▁▁▁▁▁▁▁▁▁▁</td></tr><tr><td>train_loss_26</td><td>█▄▃▃▂▂▂▂▁▁▁▁▁▁▁▁▁▁▁▁▁▁▁▁▁▁▁▁▁▁▁▁▁▁▁▁▁▁▁▁</td></tr><tr><td>train_loss_27</td><td>█▅▃▃▂▂▂▂▁▁▁▁▁▁▁▁▁▁▁▁▁▁▁▁▁▁▁▁▁▁▁▁▁▁▁▁▁▁▁▁</td></tr><tr><td>train_loss_28</td><td>█▄▃▂▂▂▁▁▁▁▁▁▁▁▁▁▁▁▁▁▁▁▁▁▁▁▁▁▁▁▁▁▁▁▁▁▁▁▁▁</td></tr><tr><td>train_loss_29</td><td>█▄▂▂▂▁▁▁▁▁▁▁▁▁▁▁▁▁▁▁▁▁▁▁▁▁▁▁▁▁▁▁▁▁▁▁▁▁▁▁</td></tr><tr><td>train_loss_3</td><td>█▃▂▂▂▁▁▁▁▁▁▁▁▁▁▁▁▁▁▁▁▁▁▁▁▁▁▁▁▁▁▁▁▁▁▁▁▁▁▁</td></tr><tr><td>train_loss_30</td><td>█▄▃▂▂▂▂▁▁▁▁▁▁▁▁▁▁▁▁▁▁▁▁▁▁▁▁▁▁▁▁▁▁▁▁▁▁▁▁▁</td></tr><tr><td>train_loss_31</td><td>█▃▂▁▁▁▁▁▁▁▁▁▁▁▁▁▁▁▁▁▁▁▁▁▁▁▁▁▁▁▁▁▁▁▁▁▁▁▁▁</td></tr><tr><td>train_loss_32</td><td>█▄▃▂▂▂▂▁▁▁▁▁▁▁▁▁▁▁▁▁▁▁▁▁▁▁▁▁▁▁▁▁▁▁▁▁▁▁▁▁</td></tr><tr><td>train_loss_33</td><td>█▃▃▂▂▂▁▁▁▁▁▁▁▁▁▁▁▁▁▁▁▁▁▁▁▁▁▁▁▁▁▁▁▁▁▁▁▁▁▁</td></tr><tr><td>train_loss_34</td><td>█▃▂▂▁▁▁▁▁▁▁▁▁▁▁▁▁▁▁▁▁▁▁▁▁▁▁▁▁▁▁▁▁▁▁▁▁▁▁▁</td></tr><tr><td>train_loss_35</td><td>█▃▂▁▁▁▁▁▁▁▁▁▁▁▁▁▁▁▁▁▁▁▁▁▁▁▁▁▁▁▁▁▁▁▁▁▁▁▁▁</td></tr><tr><td>train_loss_36</td><td>█▃▂▁▁▁▁▁▁▁▁▁▁▁▁▁▁▁▁▁▁▁▁▁▁▁▁▁▁▁▁▁▁▁▁▁▁▁▁▁</td></tr><tr><td>train_loss_37</td><td>█▄▂▂▂▂▂▁▁▁▁▁▁▁▁▁▁▁▁▁▁▁▁▁▁▁▁▁▁▁▁▁▁▁▁▁▁▁▁▁</td></tr><tr><td>train_loss_38</td><td>█▃▂▂▂▂▂▂▁▁▁▁▁▁▁▁▁▁▁▁▁▁▁▁▁▁▁▁▁▁▁▁▁▁▁▁▁▁▁▁</td></tr><tr><td>train_loss_4</td><td>█▃▂▂▁▁▁▁▁▁▁▁▁▁▁▁▁▁▁▁▁▁▁▁▁▁▁▁▁▁▁▁▁▁▁▁▁▁▁▁</td></tr><tr><td>train_loss_5</td><td>█▄▂▂▁▁▁▁▁▁▁▁▁▁▁▁▁▁▁▁▁▁▁▁▁▁▁▁▁▁▁▁▁▁▁▁▁▁▁▁</td></tr><tr><td>train_loss_6</td><td>█▃▂▂▁▁▁▁▁▁▁▁▁▁▁▁▁▁▁▁▁▁▁▁▁▁▁▁▁▁▁▁▁▁▁▁▁▁▁▁</td></tr><tr><td>train_loss_7</td><td>█▃▂▂▂▂▁▁▁▁▁▁▁▁▁▁▁▁▁▁▁▁▁▁▁▁▁▁▁▁▁▁▁▁▁▁▁▁▁▁</td></tr><tr><td>train_loss_8</td><td>█▅▃▂▂▂▂▂▁▁▁▁▁▁▁▁▁▁▁▁▁▁▁▁▁▁▁▁▁▁▁▁▁▁▁▁▁▁▁▁</td></tr><tr><td>train_loss_9</td><td>█▄▂▂▂▁▁▁▁▁▁▁▁▁▁▁▁▁▁▁▁▁▁▁▁▁▁▁▁▁▁▁▁▁▁▁▁▁▁▁</td></tr><tr><td>train_mean_squared_error</td><td>█▃▂▂▂▁▁▁▁▁▁▁▁▁▁▁▁▁▁▁▁▁▁▁▁▁▁▁▁▁▁▁▁▁▁▁▁▁▁▁</td></tr><tr><td>train_mean_squared_error_0</td><td>█▃▂▂▁▁▁▁▁▁▁▁▁▁▁▁▁▁▁▁▁▁▁▁▁▁▁▁▁▁▁▁▁▁▁▁▁▁▁▁</td></tr><tr><td>train_mean_squared_error_1</td><td>█▃▂▂▁▁▁▁▁▁▁▁▁▁▁▁▁▁▁▁▁▁▁▁▁▁▁▁▁▁▁▁▁▁▁▁▁▁▁▁</td></tr><tr><td>train_mean_squared_error_10</td><td>█▃▂▂▂▂▁▁▁▁▁▁▁▁▁▁▁▁▁▁▁▁▁▁▁▁▁▁▁▁▁▁▁▁▁▁▁▁▁▁</td></tr><tr><td>train_mean_squared_error_11</td><td>█▅▃▂▂▂▂▂▁▁▁▁▁▁▁▁▁▁▁▁▁▁▁▁▁▁▁▁▁▁▁▁▁▁▁▁▁▁▁▁</td></tr><tr><td>train_mean_squared_error_12</td><td>█▄▂▂▂▂▁▁▁▁▁▁▁▁▁▁▁▁▁▁▁▁▁▁▁▁▁▁▁▁▁▁▁▁▁▁▁▁▁▁</td></tr><tr><td>train_mean_squared_error_13</td><td>█▅▃▂▂▂▂▂▁▁▁▁▁▁▁▁▁▁▁▁▁▁▁▁▁▁▁▁▁▁▁▁▁▁▁▁▁▁▁▁</td></tr><tr><td>train_mean_squared_error_14</td><td>█▄▃▂▂▁▁▁▁▁▁▁▁▁▁▁▁▁▁▁▁▁▁▁▁▁▁▁▁▁▁▁▁▁▁▁▁▁▁▁</td></tr><tr><td>train_mean_squared_error_15</td><td>█▄▂▂▁▁▁▁▁▁▁▁▁▁▁▁▁▁▁▁▁▁▁▁▁▁▁▁▁▁▁▁▁▁▁▁▁▁▁▁</td></tr><tr><td>train_mean_squared_error_16</td><td>█▄▂▂▂▂▂▂▁▁▁▁▁▁▁▁▁▁▁▁▁▁▁▁▁▁▁▁▁▁▁▁▁▁▁▁▁▁▁▁</td></tr><tr><td>train_mean_squared_error_17</td><td>█▄▂▂▂▂▂▁▁▁▁▁▁▁▁▁▁▁▁▁▁▁▁▁▁▁▁▁▁▁▁▁▁▁▁▁▁▁▁▁</td></tr><tr><td>train_mean_squared_error_18</td><td>█▃▂▁▁▁▁▁▁▁▁▁▁▁▁▁▁▁▁▁▁▁▁▁▁▁▁▁▁▁▁▁▁▁▁▁▁▁▁▁</td></tr><tr><td>train_mean_squared_error_19</td><td>█▃▂▂▁▁▁▁▁▁▁▁▁▁▁▁▁▁▁▁▁▁▁▁▁▁▁▁▁▁▁▁▁▁▁▁▁▁▁▁</td></tr><tr><td>train_mean_squared_error_2</td><td>█▄▂▂▂▁▁▁▁▁▁▁▁▁▁▁▁▁▁▁▁▁▁▁▁▁▁▁▁▁▁▁▁▁▁▁▁▁▁▁</td></tr><tr><td>train_mean_squared_error_20</td><td>█▃▂▂▂▁▁▁▁▁▁▁▁▁▁▁▁▁▁▁▁▁▁▁▁▁▁▁▁▁▁▁▁▁▁▁▁▁▁▁</td></tr><tr><td>train_mean_squared_error_21</td><td>█▃▂▂▂▁▁▁▁▁▁▁▁▁▁▁▁▁▁▁▁▁▁▁▁▁▁▁▁▁▁▁▁▁▁▁▁▁▁▁</td></tr><tr><td>train_mean_squared_error_22</td><td>█▃▂▂▂▁▁▁▁▁▁▁▁▁▁▁▁▁▁▁▁▁▁▁▁▁▁▁▁▁▁▁▁▁▁▁▁▁▁▁</td></tr><tr><td>train_mean_squared_error_23</td><td>█▄▃▂▂▁▁▁▁▁▁▁▁▁▁▁▁▁▁▁▁▁▁▁▁▁▁▁▁▁▁▁▁▁▁▁▁▁▁▁</td></tr><tr><td>train_mean_squared_error_24</td><td>█▄▃▂▂▁▁▁▁▁▁▁▁▁▁▁▁▁▁▁▁▁▁▁▁▁▁▁▁▁▁▁▁▁▁▁▁▁▁▁</td></tr><tr><td>train_mean_squared_error_25</td><td>█▄▃▂▂▁▁▁▁▁▁▁▁▁▁▁▁▁▁▁▁▁▁▁▁▁▁▁▁▁▁▁▁▁▁▁▁▁▁▁</td></tr><tr><td>train_mean_squared_error_26</td><td>█▄▃▃▂▂▂▂▁▁▁▁▁▁▁▁▁▁▁▁▁▁▁▁▁▁▁▁▁▁▁▁▁▁▁▁▁▁▁▁</td></tr><tr><td>train_mean_squared_error_27</td><td>█▅▃▃▂▂▂▂▁▁▁▁▁▁▁▁▁▁▁▁▁▁▁▁▁▁▁▁▁▁▁▁▁▁▁▁▁▁▁▁</td></tr><tr><td>train_mean_squared_error_28</td><td>█▄▃▂▂▂▁▁▁▁▁▁▁▁▁▁▁▁▁▁▁▁▁▁▁▁▁▁▁▁▁▁▁▁▁▁▁▁▁▁</td></tr><tr><td>train_mean_squared_error_29</td><td>█▄▂▂▂▁▁▁▁▁▁▁▁▁▁▁▁▁▁▁▁▁▁▁▁▁▁▁▁▁▁▁▁▁▁▁▁▁▁▁</td></tr><tr><td>train_mean_squared_error_3</td><td>█▃▂▂▂▁▁▁▁▁▁▁▁▁▁▁▁▁▁▁▁▁▁▁▁▁▁▁▁▁▁▁▁▁▁▁▁▁▁▁</td></tr><tr><td>train_mean_squared_error_30</td><td>█▄▃▂▂▂▂▁▁▁▁▁▁▁▁▁▁▁▁▁▁▁▁▁▁▁▁▁▁▁▁▁▁▁▁▁▁▁▁▁</td></tr><tr><td>train_mean_squared_error_31</td><td>█▃▂▁▁▁▁▁▁▁▁▁▁▁▁▁▁▁▁▁▁▁▁▁▁▁▁▁▁▁▁▁▁▁▁▁▁▁▁▁</td></tr><tr><td>train_mean_squared_error_32</td><td>█▄▃▂▂▂▂▁▁▁▁▁▁▁▁▁▁▁▁▁▁▁▁▁▁▁▁▁▁▁▁▁▁▁▁▁▁▁▁▁</td></tr><tr><td>train_mean_squared_error_33</td><td>█▃▃▂▂▂▁▁▁▁▁▁▁▁▁▁▁▁▁▁▁▁▁▁▁▁▁▁▁▁▁▁▁▁▁▁▁▁▁▁</td></tr><tr><td>train_mean_squared_error_34</td><td>█▃▂▂▁▁▁▁▁▁▁▁▁▁▁▁▁▁▁▁▁▁▁▁▁▁▁▁▁▁▁▁▁▁▁▁▁▁▁▁</td></tr><tr><td>train_mean_squared_error_35</td><td>█▃▂▁▁▁▁▁▁▁▁▁▁▁▁▁▁▁▁▁▁▁▁▁▁▁▁▁▁▁▁▁▁▁▁▁▁▁▁▁</td></tr><tr><td>train_mean_squared_error_36</td><td>█▃▂▁▁▁▁▁▁▁▁▁▁▁▁▁▁▁▁▁▁▁▁▁▁▁▁▁▁▁▁▁▁▁▁▁▁▁▁▁</td></tr><tr><td>train_mean_squared_error_37</td><td>█▄▂▂▂▂▂▁▁▁▁▁▁▁▁▁▁▁▁▁▁▁▁▁▁▁▁▁▁▁▁▁▁▁▁▁▁▁▁▁</td></tr><tr><td>train_mean_squared_error_38</td><td>█▃▂▂▂▂▂▂▁▁▁▁▁▁▁▁▁▁▁▁▁▁▁▁▁▁▁▁▁▁▁▁▁▁▁▁▁▁▁▁</td></tr><tr><td>train_mean_squared_error_4</td><td>█▃▂▂▁▁▁▁▁▁▁▁▁▁▁▁▁▁▁▁▁▁▁▁▁▁▁▁▁▁▁▁▁▁▁▁▁▁▁▁</td></tr><tr><td>train_mean_squared_error_5</td><td>█▄▂▂▁▁▁▁▁▁▁▁▁▁▁▁▁▁▁▁▁▁▁▁▁▁▁▁▁▁▁▁▁▁▁▁▁▁▁▁</td></tr><tr><td>train_mean_squared_error_6</td><td>█▃▂▂▁▁▁▁▁▁▁▁▁▁▁▁▁▁▁▁▁▁▁▁▁▁▁▁▁▁▁▁▁▁▁▁▁▁▁▁</td></tr><tr><td>train_mean_squared_error_7</td><td>█▃▂▂▂▂▁▁▁▁▁▁▁▁▁▁▁▁▁▁▁▁▁▁▁▁▁▁▁▁▁▁▁▁▁▁▁▁▁▁</td></tr><tr><td>train_mean_squared_error_8</td><td>█▅▃▂▂▂▂▂▁▁▁▁▁▁▁▁▁▁▁▁▁▁▁▁▁▁▁▁▁▁▁▁▁▁▁▁▁▁▁▁</td></tr><tr><td>train_mean_squared_error_9</td><td>█▄▂▂▂▁▁▁▁▁▁▁▁▁▁▁▁▁▁▁▁▁▁▁▁▁▁▁▁▁▁▁▁▁▁▁▁▁▁▁</td></tr><tr><td>train_r2_score</td><td>▁▆▇▇▇███████████████████████████████████</td></tr><tr><td>train_r2_score_0</td><td>▁▆▇▇████████████████████████████████████</td></tr><tr><td>train_r2_score_1</td><td>▁▆▇▇████████████████████████████████████</td></tr><tr><td>train_r2_score_10</td><td>▁▆▇▇▇▇██████████████████████████████████</td></tr><tr><td>train_r2_score_11</td><td>▁▄▆▇▇▇▇▇████████████████████████████████</td></tr><tr><td>train_r2_score_12</td><td>▁▅▇▇▇▇██████████████████████████████████</td></tr><tr><td>train_r2_score_13</td><td>▁▄▆▇▇▇▇▇████████████████████████████████</td></tr><tr><td>train_r2_score_14</td><td>▁▅▆▇▇███████████████████████████████████</td></tr><tr><td>train_r2_score_15</td><td>▁▅▇▇████████████████████████████████████</td></tr><tr><td>train_r2_score_16</td><td>▁▅▇▇▇▇▇▇████████████████████████████████</td></tr><tr><td>train_r2_score_17</td><td>▁▅▇▇▇▇▇█████████████████████████████████</td></tr><tr><td>train_r2_score_18</td><td>▁▆▇█████████████████████████████████████</td></tr><tr><td>train_r2_score_19</td><td>▁▆▇▇████████████████████████████████████</td></tr><tr><td>train_r2_score_2</td><td>▁▅▇▇▇███████████████████████████████████</td></tr><tr><td>train_r2_score_20</td><td>▁▆▇▇▇███████████████████████████████████</td></tr><tr><td>train_r2_score_21</td><td>▁▆▇▇▇███████████████████████████████████</td></tr><tr><td>train_r2_score_22</td><td>▁▆▇▇▇███████████████████████████████████</td></tr><tr><td>train_r2_score_23</td><td>▁▅▆▇▇███████████████████████████████████</td></tr><tr><td>train_r2_score_24</td><td>▁▅▆▇▇███████████████████████████████████</td></tr><tr><td>train_r2_score_25</td><td>▁▅▆▇▇███████████████████████████████████</td></tr><tr><td>train_r2_score_26</td><td>▁▅▆▆▇▇▇▇████████████████████████████████</td></tr><tr><td>train_r2_score_27</td><td>▁▄▆▆▇▇▇▇████████████████████████████████</td></tr><tr><td>train_r2_score_28</td><td>▁▅▆▇▇▇██████████████████████████████████</td></tr><tr><td>train_r2_score_29</td><td>▁▅▇▇▇███████████████████████████████████</td></tr><tr><td>train_r2_score_3</td><td>▁▆▇▇▇███████████████████████████████████</td></tr><tr><td>train_r2_score_30</td><td>▁▅▆▇▇▇▇█████████████████████████████████</td></tr><tr><td>train_r2_score_31</td><td>▁▆▇█████████████████████████████████████</td></tr><tr><td>train_r2_score_32</td><td>▁▅▆▇▇▇▇█████████████████████████████████</td></tr><tr><td>train_r2_score_33</td><td>▁▆▇▇▇▇██████████████████████████████████</td></tr><tr><td>train_r2_score_34</td><td>▁▆▇▇████████████████████████████████████</td></tr><tr><td>train_r2_score_35</td><td>▁▆▇█████████████████████████████████████</td></tr><tr><td>train_r2_score_36</td><td>▁▆▇█████████████████████████████████████</td></tr><tr><td>train_r2_score_37</td><td>▁▅▇▇▇▇▇█████████████████████████████████</td></tr><tr><td>train_r2_score_38</td><td>▁▆▇▇▇▇▇▇████████████████████████████████</td></tr><tr><td>train_r2_score_4</td><td>▁▆▇▇████████████████████████████████████</td></tr><tr><td>train_r2_score_5</td><td>▁▅▇▇████████████████████████████████████</td></tr><tr><td>train_r2_score_6</td><td>▁▆▇▇████████████████████████████████████</td></tr><tr><td>train_r2_score_7</td><td>▁▆▇▇▇▇██████████████████████████████████</td></tr><tr><td>train_r2_score_8</td><td>▁▄▆▇▇▇▇▇████████████████████████████████</td></tr><tr><td>train_r2_score_9</td><td>▁▅▇▇▇▇██████████████████████████████████</td></tr><tr><td>trainer/global_step</td><td>▁▁▁▁▂▂▂▂▂▂▃▃▃▄▄▄▄▄▄▄▅▅▅▅▅▆▆▆▆▆▆▆▆▇▇▇▇▇██</td></tr><tr><td>valid_loss</td><td>█▃▂▂▁▁▁▁▁</td></tr><tr><td>valid_loss_0</td><td>█▃▁▁▁▁▁▁▂</td></tr><tr><td>valid_loss_1</td><td>█▃▁▁▁▁▂▁▂</td></tr><tr><td>valid_loss_10</td><td>█▃▁▂▁▁▁▁▁</td></tr><tr><td>valid_loss_11</td><td>█▃▁▂▂▁▂▁▁</td></tr><tr><td>valid_loss_12</td><td>█▄▁▃▂▂▂▁▁</td></tr><tr><td>valid_loss_13</td><td>█▃▁▂▁▂▁▁▂</td></tr><tr><td>valid_loss_14</td><td>█▄▃▂▂▁▁▁▁</td></tr><tr><td>valid_loss_15</td><td>█▃▂▁▁▁▁▁▁</td></tr><tr><td>valid_loss_16</td><td>█▄▂▃▁▁▁▂▂</td></tr><tr><td>valid_loss_17</td><td>█▃▂▂▁▁▂▁▂</td></tr><tr><td>valid_loss_18</td><td>█▃▂▂▁▁▂▁▂</td></tr><tr><td>valid_loss_19</td><td>█▃▂▂▁▁▂▁▂</td></tr><tr><td>valid_loss_2</td><td>█▄▃▂▂▂▁▁▁</td></tr><tr><td>valid_loss_20</td><td>█▄▂▁▂▁▁▁▁</td></tr><tr><td>valid_loss_21</td><td>█▅▃▂▁▁▁▁▁</td></tr><tr><td>valid_loss_22</td><td>█▄▂▂▂▁▁▁▁</td></tr><tr><td>valid_loss_23</td><td>█▄▃▂▂▁▁▁▁</td></tr><tr><td>valid_loss_24</td><td>█▄▂▁▁▁▁▁▁</td></tr><tr><td>valid_loss_25</td><td>█▂▁▂▁▁▁▁▁</td></tr><tr><td>valid_loss_26</td><td>█▄▂▂▁▁▁▁▁</td></tr><tr><td>valid_loss_27</td><td>█▃▂▂▁▁▁▁▁</td></tr><tr><td>valid_loss_28</td><td>█▄▃▂▁▁▁▁▁</td></tr><tr><td>valid_loss_29</td><td>█▅▃▂▂▂▁▁▂</td></tr><tr><td>valid_loss_3</td><td>█▂▁▂▂▂▁▂▂</td></tr><tr><td>valid_loss_30</td><td>█▃▃▂▁▁▁▁▁</td></tr><tr><td>valid_loss_31</td><td>█▁▂▁▁▁▁▂▃</td></tr><tr><td>valid_loss_32</td><td>█▄▂▃▁▁▁▂▁</td></tr><tr><td>valid_loss_33</td><td>█▄▃▃▁▁▁▁▁</td></tr><tr><td>valid_loss_34</td><td>█▄▂▂▂▂▁▁▁</td></tr><tr><td>valid_loss_35</td><td>█▄▃▂▁▁▁▁▁</td></tr><tr><td>valid_loss_36</td><td>█▄▂▂▁▂▁▁▁</td></tr><tr><td>valid_loss_37</td><td>█▄▃▃▁▁▁▂▂</td></tr><tr><td>valid_loss_38</td><td>█▅▃▃▁▁▁▂▂</td></tr><tr><td>valid_loss_4</td><td>█▂▁▂▂▂▂▃▃</td></tr><tr><td>valid_loss_5</td><td>█▄▂▂▂▁▁▁▁</td></tr><tr><td>valid_loss_6</td><td>█▂▁▁▁▁▂▁▁</td></tr><tr><td>valid_loss_7</td><td>█▄▃▂▂▁▁▁▁</td></tr><tr><td>valid_loss_8</td><td>█▃▂▃▂▁▂▂▂</td></tr><tr><td>valid_loss_9</td><td>█▄▂▃▂▁▂▂▂</td></tr><tr><td>valid_mean_squared_error</td><td>█▃▂▂▁▁▁▁▁</td></tr><tr><td>valid_mean_squared_error_0</td><td>█▃▁▁▁▁▁▁▂</td></tr><tr><td>valid_mean_squared_error_1</td><td>█▃▁▁▁▁▂▁▂</td></tr><tr><td>valid_mean_squared_error_10</td><td>█▃▁▂▁▁▁▁▁</td></tr><tr><td>valid_mean_squared_error_11</td><td>█▃▁▂▂▁▂▁▁</td></tr><tr><td>valid_mean_squared_error_12</td><td>█▄▁▃▂▂▂▁▁</td></tr><tr><td>valid_mean_squared_error_13</td><td>█▃▁▂▁▂▁▁▂</td></tr><tr><td>valid_mean_squared_error_14</td><td>█▄▃▂▂▁▁▁▁</td></tr><tr><td>valid_mean_squared_error_15</td><td>█▃▂▁▁▁▁▁▁</td></tr><tr><td>valid_mean_squared_error_16</td><td>█▄▂▃▁▁▁▂▂</td></tr><tr><td>valid_mean_squared_error_17</td><td>█▃▂▂▁▁▂▁▂</td></tr><tr><td>valid_mean_squared_error_18</td><td>█▃▂▂▁▁▂▁▂</td></tr><tr><td>valid_mean_squared_error_19</td><td>█▃▂▂▁▁▂▁▂</td></tr><tr><td>valid_mean_squared_error_2</td><td>█▄▃▂▂▂▁▁▁</td></tr><tr><td>valid_mean_squared_error_20</td><td>█▄▂▁▂▁▁▁▁</td></tr><tr><td>valid_mean_squared_error_21</td><td>█▅▃▂▁▁▁▁▁</td></tr><tr><td>valid_mean_squared_error_22</td><td>█▄▂▂▂▁▁▁▁</td></tr><tr><td>valid_mean_squared_error_23</td><td>█▄▃▂▂▁▁▁▁</td></tr><tr><td>valid_mean_squared_error_24</td><td>█▄▂▁▁▁▁▁▁</td></tr><tr><td>valid_mean_squared_error_25</td><td>█▂▁▂▁▁▁▁▁</td></tr><tr><td>valid_mean_squared_error_26</td><td>█▄▂▂▁▁▁▁▁</td></tr><tr><td>valid_mean_squared_error_27</td><td>█▃▂▂▁▁▁▁▁</td></tr><tr><td>valid_mean_squared_error_28</td><td>█▄▃▂▁▁▁▁▁</td></tr><tr><td>valid_mean_squared_error_29</td><td>█▅▃▂▂▂▁▁▂</td></tr><tr><td>valid_mean_squared_error_3</td><td>█▂▁▂▂▂▁▂▂</td></tr><tr><td>valid_mean_squared_error_30</td><td>█▃▃▂▁▁▁▁▁</td></tr><tr><td>valid_mean_squared_error_31</td><td>█▁▂▁▁▁▁▂▃</td></tr><tr><td>valid_mean_squared_error_32</td><td>█▄▂▃▁▁▁▂▁</td></tr><tr><td>valid_mean_squared_error_33</td><td>█▄▃▃▁▁▁▁▁</td></tr><tr><td>valid_mean_squared_error_34</td><td>█▄▂▂▂▂▁▁▁</td></tr><tr><td>valid_mean_squared_error_35</td><td>█▄▃▂▁▁▁▁▁</td></tr><tr><td>valid_mean_squared_error_36</td><td>█▄▂▂▁▂▁▁▁</td></tr><tr><td>valid_mean_squared_error_37</td><td>█▄▃▃▁▁▁▂▂</td></tr><tr><td>valid_mean_squared_error_38</td><td>█▅▃▃▁▁▁▂▂</td></tr><tr><td>valid_mean_squared_error_4</td><td>█▂▁▂▂▂▂▃▃</td></tr><tr><td>valid_mean_squared_error_5</td><td>█▄▂▂▂▁▁▁▁</td></tr><tr><td>valid_mean_squared_error_6</td><td>█▂▁▁▁▁▂▁▁</td></tr><tr><td>valid_mean_squared_error_7</td><td>█▄▃▂▂▁▁▁▁</td></tr><tr><td>valid_mean_squared_error_8</td><td>█▃▂▃▂▁▂▂▂</td></tr><tr><td>valid_mean_squared_error_9</td><td>█▄▂▃▂▁▂▂▂</td></tr><tr><td>valid_r2_score</td><td>▁▅▇▇█████</td></tr><tr><td>valid_r2_score_0</td><td>▁▆██████▇</td></tr><tr><td>valid_r2_score_1</td><td>▁▆████▇█▇</td></tr><tr><td>valid_r2_score_10</td><td>▁▆█▇█████</td></tr><tr><td>valid_r2_score_11</td><td>▁▆█▇▇█▇██</td></tr><tr><td>valid_r2_score_12</td><td>▁▅█▆▇▇▇██</td></tr><tr><td>valid_r2_score_13</td><td>▁▆█▇█▇██▇</td></tr><tr><td>valid_r2_score_14</td><td>▁▅▆▇▇████</td></tr><tr><td>valid_r2_score_15</td><td>▁▆▇██████</td></tr><tr><td>valid_r2_score_16</td><td>▁▅▇▆███▇▇</td></tr><tr><td>valid_r2_score_17</td><td>▁▆▇▇██▇█▇</td></tr><tr><td>valid_r2_score_18</td><td>▁▆▇▇██▇█▇</td></tr><tr><td>valid_r2_score_19</td><td>▁▆▇▇██▇█▇</td></tr><tr><td>valid_r2_score_2</td><td>▁▅▆▇▇▇███</td></tr><tr><td>valid_r2_score_20</td><td>▁▅▇█▇████</td></tr><tr><td>valid_r2_score_21</td><td>▁▄▆▇█████</td></tr><tr><td>valid_r2_score_22</td><td>▁▅▇▇▇████</td></tr><tr><td>valid_r2_score_23</td><td>▁▅▆▇▇████</td></tr><tr><td>valid_r2_score_24</td><td>▁▅▇██████</td></tr><tr><td>valid_r2_score_25</td><td>▁▇█▇█████</td></tr><tr><td>valid_r2_score_26</td><td>▁▅▇▇█████</td></tr><tr><td>valid_r2_score_27</td><td>▁▆▇▇█████</td></tr><tr><td>valid_r2_score_28</td><td>▁▅▆▇█████</td></tr><tr><td>valid_r2_score_29</td><td>▁▄▆▇▇▇██▇</td></tr><tr><td>valid_r2_score_3</td><td>▁▇█▇▇▇█▇▇</td></tr><tr><td>valid_r2_score_30</td><td>▁▆▆▇█████</td></tr><tr><td>valid_r2_score_31</td><td>▁█▇████▇▆</td></tr><tr><td>valid_r2_score_32</td><td>▁▅▇▆███▇█</td></tr><tr><td>valid_r2_score_33</td><td>▁▅▆▆█████</td></tr><tr><td>valid_r2_score_34</td><td>▁▅▇▇▇▇███</td></tr><tr><td>valid_r2_score_35</td><td>▁▅▆▇█████</td></tr><tr><td>valid_r2_score_36</td><td>▁▅▇▇█▇███</td></tr><tr><td>valid_r2_score_37</td><td>▁▅▆▆███▇▇</td></tr><tr><td>valid_r2_score_38</td><td>▁▄▆▆███▇▇</td></tr><tr><td>valid_r2_score_4</td><td>▁▇█▇▇▇▇▆▆</td></tr><tr><td>valid_r2_score_5</td><td>▁▅▇▇▇████</td></tr><tr><td>valid_r2_score_6</td><td>▁▇████▇██</td></tr><tr><td>valid_r2_score_7</td><td>▁▅▆▇▇████</td></tr><tr><td>valid_r2_score_8</td><td>▁▆▇▆▇█▇▇▇</td></tr><tr><td>valid_r2_score_9</td><td>▁▅▇▆▇█▇▇▇</td></tr></table><br/></div><div class=\"wandb-col\"><h3>Run summary:</h3><br/><table class=\"wandb\"><tr><td>epoch</td><td>44</td></tr><tr><td>train_loss</td><td>0.77798</td></tr><tr><td>train_loss_0</td><td>0.03317</td></tr><tr><td>train_loss_1</td><td>0.03039</td></tr><tr><td>train_loss_10</td><td>0.0092</td></tr><tr><td>train_loss_11</td><td>0.00847</td></tr><tr><td>train_loss_12</td><td>0.00956</td></tr><tr><td>train_loss_13</td><td>0.01397</td></tr><tr><td>train_loss_14</td><td>0.00834</td></tr><tr><td>train_loss_15</td><td>0.00654</td></tr><tr><td>train_loss_16</td><td>0.01336</td></tr><tr><td>train_loss_17</td><td>0.01038</td></tr><tr><td>train_loss_18</td><td>0.02257</td></tr><tr><td>train_loss_19</td><td>0.02208</td></tr><tr><td>train_loss_2</td><td>0.03772</td></tr><tr><td>train_loss_20</td><td>0.01286</td></tr><tr><td>train_loss_21</td><td>0.00987</td></tr><tr><td>train_loss_22</td><td>0.01374</td></tr><tr><td>train_loss_23</td><td>0.01021</td></tr><tr><td>train_loss_24</td><td>0.01055</td></tr><tr><td>train_loss_25</td><td>0.01192</td></tr><tr><td>train_loss_26</td><td>0.00258</td></tr><tr><td>train_loss_27</td><td>0.00348</td></tr><tr><td>train_loss_28</td><td>0.00452</td></tr><tr><td>train_loss_29</td><td>0.05416</td></tr><tr><td>train_loss_3</td><td>0.03894</td></tr><tr><td>train_loss_30</td><td>0.01545</td></tr><tr><td>train_loss_31</td><td>0.04645</td></tr><tr><td>train_loss_32</td><td>0.01027</td></tr><tr><td>train_loss_33</td><td>0.01511</td></tr><tr><td>train_loss_34</td><td>0.02189</td></tr><tr><td>train_loss_35</td><td>0.02013</td></tr><tr><td>train_loss_36</td><td>0.02169</td></tr><tr><td>train_loss_37</td><td>0.01858</td></tr><tr><td>train_loss_38</td><td>0.01516</td></tr><tr><td>train_loss_4</td><td>0.04445</td></tr><tr><td>train_loss_5</td><td>0.04413</td></tr><tr><td>train_loss_6</td><td>0.0343</td></tr><tr><td>train_loss_7</td><td>0.04788</td></tr><tr><td>train_loss_8</td><td>0.00982</td></tr><tr><td>train_loss_9</td><td>0.01586</td></tr><tr><td>train_mean_squared_error</td><td>0.77974</td></tr><tr><td>train_mean_squared_error_0</td><td>0.03317</td></tr><tr><td>train_mean_squared_error_1</td><td>0.03039</td></tr><tr><td>train_mean_squared_error_10</td><td>0.0092</td></tr><tr><td>train_mean_squared_error_11</td><td>0.00847</td></tr><tr><td>train_mean_squared_error_12</td><td>0.00956</td></tr><tr><td>train_mean_squared_error_13</td><td>0.01397</td></tr><tr><td>train_mean_squared_error_14</td><td>0.00834</td></tr><tr><td>train_mean_squared_error_15</td><td>0.00654</td></tr><tr><td>train_mean_squared_error_16</td><td>0.01336</td></tr><tr><td>train_mean_squared_error_17</td><td>0.01038</td></tr><tr><td>train_mean_squared_error_18</td><td>0.02257</td></tr><tr><td>train_mean_squared_error_19</td><td>0.02208</td></tr><tr><td>train_mean_squared_error_2</td><td>0.03772</td></tr><tr><td>train_mean_squared_error_20</td><td>0.01286</td></tr><tr><td>train_mean_squared_error_21</td><td>0.00987</td></tr><tr><td>train_mean_squared_error_22</td><td>0.01374</td></tr><tr><td>train_mean_squared_error_23</td><td>0.01021</td></tr><tr><td>train_mean_squared_error_24</td><td>0.01055</td></tr><tr><td>train_mean_squared_error_25</td><td>0.01192</td></tr><tr><td>train_mean_squared_error_26</td><td>0.00258</td></tr><tr><td>train_mean_squared_error_27</td><td>0.00348</td></tr><tr><td>train_mean_squared_error_28</td><td>0.00452</td></tr><tr><td>train_mean_squared_error_29</td><td>0.05416</td></tr><tr><td>train_mean_squared_error_3</td><td>0.03894</td></tr><tr><td>train_mean_squared_error_30</td><td>0.01545</td></tr><tr><td>train_mean_squared_error_31</td><td>0.04645</td></tr><tr><td>train_mean_squared_error_32</td><td>0.01027</td></tr><tr><td>train_mean_squared_error_33</td><td>0.01511</td></tr><tr><td>train_mean_squared_error_34</td><td>0.02189</td></tr><tr><td>train_mean_squared_error_35</td><td>0.02013</td></tr><tr><td>train_mean_squared_error_36</td><td>0.02169</td></tr><tr><td>train_mean_squared_error_37</td><td>0.01858</td></tr><tr><td>train_mean_squared_error_38</td><td>0.01516</td></tr><tr><td>train_mean_squared_error_4</td><td>0.04445</td></tr><tr><td>train_mean_squared_error_5</td><td>0.04413</td></tr><tr><td>train_mean_squared_error_6</td><td>0.0343</td></tr><tr><td>train_mean_squared_error_7</td><td>0.04788</td></tr><tr><td>train_mean_squared_error_8</td><td>0.00982</td></tr><tr><td>train_mean_squared_error_9</td><td>0.01586</td></tr><tr><td>train_r2_score</td><td>27.99592</td></tr><tr><td>train_r2_score_0</td><td>0.68692</td></tr><tr><td>train_r2_score_1</td><td>0.69618</td></tr><tr><td>train_r2_score_10</td><td>0.84059</td></tr><tr><td>train_r2_score_11</td><td>0.84987</td></tr><tr><td>train_r2_score_12</td><td>0.83682</td></tr><tr><td>train_r2_score_13</td><td>0.77738</td></tr><tr><td>train_r2_score_14</td><td>0.8347</td></tr><tr><td>train_r2_score_15</td><td>0.86983</td></tr><tr><td>train_r2_score_16</td><td>0.71797</td></tr><tr><td>train_r2_score_17</td><td>0.76842</td></tr><tr><td>train_r2_score_18</td><td>0.65349</td></tr><tr><td>train_r2_score_19</td><td>0.67996</td></tr><tr><td>train_r2_score_2</td><td>0.64025</td></tr><tr><td>train_r2_score_20</td><td>0.79919</td></tr><tr><td>train_r2_score_21</td><td>0.84509</td></tr><tr><td>train_r2_score_22</td><td>0.78734</td></tr><tr><td>train_r2_score_23</td><td>0.83609</td></tr><tr><td>train_r2_score_24</td><td>0.80968</td></tr><tr><td>train_r2_score_25</td><td>0.76793</td></tr><tr><td>train_r2_score_26</td><td>0.93086</td></tr><tr><td>train_r2_score_27</td><td>0.90639</td></tr><tr><td>train_r2_score_28</td><td>0.86363</td></tr><tr><td>train_r2_score_29</td><td>0.45581</td></tr><tr><td>train_r2_score_3</td><td>0.61077</td></tr><tr><td>train_r2_score_30</td><td>0.72367</td></tr><tr><td>train_r2_score_31</td><td>0.32553</td></tr><tr><td>train_r2_score_32</td><td>0.70897</td></tr><tr><td>train_r2_score_33</td><td>0.71409</td></tr><tr><td>train_r2_score_34</td><td>0.57624</td></tr><tr><td>train_r2_score_35</td><td>0.6217</td></tr><tr><td>train_r2_score_36</td><td>0.62969</td></tr><tr><td>train_r2_score_37</td><td>0.62788</td></tr><tr><td>train_r2_score_38</td><td>0.708</td></tr><tr><td>train_r2_score_4</td><td>0.60312</td></tr><tr><td>train_r2_score_5</td><td>0.58322</td></tr><tr><td>train_r2_score_6</td><td>0.64809</td></tr><tr><td>train_r2_score_7</td><td>0.48136</td></tr><tr><td>train_r2_score_8</td><td>0.83444</td></tr><tr><td>train_r2_score_9</td><td>0.74476</td></tr><tr><td>trainer/global_step</td><td>449</td></tr><tr><td>valid_loss</td><td>0.77528</td></tr><tr><td>valid_loss_0</td><td>0.03598</td></tr><tr><td>valid_loss_1</td><td>0.03091</td></tr><tr><td>valid_loss_10</td><td>0.00797</td></tr><tr><td>valid_loss_11</td><td>0.00793</td></tr><tr><td>valid_loss_12</td><td>0.00839</td></tr><tr><td>valid_loss_13</td><td>0.01217</td></tr><tr><td>valid_loss_14</td><td>0.0077</td></tr><tr><td>valid_loss_15</td><td>0.00673</td></tr><tr><td>valid_loss_16</td><td>0.01052</td></tr><tr><td>valid_loss_17</td><td>0.00881</td></tr><tr><td>valid_loss_18</td><td>0.02327</td></tr><tr><td>valid_loss_19</td><td>0.02162</td></tr><tr><td>valid_loss_2</td><td>0.03999</td></tr><tr><td>valid_loss_20</td><td>0.0142</td></tr><tr><td>valid_loss_21</td><td>0.00977</td></tr><tr><td>valid_loss_22</td><td>0.01447</td></tr><tr><td>valid_loss_23</td><td>0.01111</td></tr><tr><td>valid_loss_24</td><td>0.0112</td></tr><tr><td>valid_loss_25</td><td>0.01201</td></tr><tr><td>valid_loss_26</td><td>0.00202</td></tr><tr><td>valid_loss_27</td><td>0.00325</td></tr><tr><td>valid_loss_28</td><td>0.00359</td></tr><tr><td>valid_loss_29</td><td>0.0567</td></tr><tr><td>valid_loss_3</td><td>0.04099</td></tr><tr><td>valid_loss_30</td><td>0.01486</td></tr><tr><td>valid_loss_31</td><td>0.04283</td></tr><tr><td>valid_loss_32</td><td>0.00937</td></tr><tr><td>valid_loss_33</td><td>0.01407</td></tr><tr><td>valid_loss_34</td><td>0.02166</td></tr><tr><td>valid_loss_35</td><td>0.01974</td></tr><tr><td>valid_loss_36</td><td>0.02143</td></tr><tr><td>valid_loss_37</td><td>0.01799</td></tr><tr><td>valid_loss_38</td><td>0.01372</td></tr><tr><td>valid_loss_4</td><td>0.04441</td></tr><tr><td>valid_loss_5</td><td>0.04634</td></tr><tr><td>valid_loss_6</td><td>0.03541</td></tr><tr><td>valid_loss_7</td><td>0.04987</td></tr><tr><td>valid_loss_8</td><td>0.0083</td></tr><tr><td>valid_loss_9</td><td>0.01396</td></tr><tr><td>valid_mean_squared_error</td><td>0.77528</td></tr><tr><td>valid_mean_squared_error_0</td><td>0.03598</td></tr><tr><td>valid_mean_squared_error_1</td><td>0.03091</td></tr><tr><td>valid_mean_squared_error_10</td><td>0.00797</td></tr><tr><td>valid_mean_squared_error_11</td><td>0.00793</td></tr><tr><td>valid_mean_squared_error_12</td><td>0.00839</td></tr><tr><td>valid_mean_squared_error_13</td><td>0.01217</td></tr><tr><td>valid_mean_squared_error_14</td><td>0.0077</td></tr><tr><td>valid_mean_squared_error_15</td><td>0.00673</td></tr><tr><td>valid_mean_squared_error_16</td><td>0.01052</td></tr><tr><td>valid_mean_squared_error_17</td><td>0.00881</td></tr><tr><td>valid_mean_squared_error_18</td><td>0.02327</td></tr><tr><td>valid_mean_squared_error_19</td><td>0.02162</td></tr><tr><td>valid_mean_squared_error_2</td><td>0.03999</td></tr><tr><td>valid_mean_squared_error_20</td><td>0.0142</td></tr><tr><td>valid_mean_squared_error_21</td><td>0.00977</td></tr><tr><td>valid_mean_squared_error_22</td><td>0.01447</td></tr><tr><td>valid_mean_squared_error_23</td><td>0.01111</td></tr><tr><td>valid_mean_squared_error_24</td><td>0.0112</td></tr><tr><td>valid_mean_squared_error_25</td><td>0.01201</td></tr><tr><td>valid_mean_squared_error_26</td><td>0.00202</td></tr><tr><td>valid_mean_squared_error_27</td><td>0.00325</td></tr><tr><td>valid_mean_squared_error_28</td><td>0.00359</td></tr><tr><td>valid_mean_squared_error_29</td><td>0.0567</td></tr><tr><td>valid_mean_squared_error_3</td><td>0.04099</td></tr><tr><td>valid_mean_squared_error_30</td><td>0.01486</td></tr><tr><td>valid_mean_squared_error_31</td><td>0.04283</td></tr><tr><td>valid_mean_squared_error_32</td><td>0.00937</td></tr><tr><td>valid_mean_squared_error_33</td><td>0.01407</td></tr><tr><td>valid_mean_squared_error_34</td><td>0.02166</td></tr><tr><td>valid_mean_squared_error_35</td><td>0.01974</td></tr><tr><td>valid_mean_squared_error_36</td><td>0.02143</td></tr><tr><td>valid_mean_squared_error_37</td><td>0.01799</td></tr><tr><td>valid_mean_squared_error_38</td><td>0.01372</td></tr><tr><td>valid_mean_squared_error_4</td><td>0.04441</td></tr><tr><td>valid_mean_squared_error_5</td><td>0.04634</td></tr><tr><td>valid_mean_squared_error_6</td><td>0.03541</td></tr><tr><td>valid_mean_squared_error_7</td><td>0.04987</td></tr><tr><td>valid_mean_squared_error_8</td><td>0.0083</td></tr><tr><td>valid_mean_squared_error_9</td><td>0.01396</td></tr><tr><td>valid_r2_score</td><td>28.4531</td></tr><tr><td>valid_r2_score_0</td><td>0.6589</td></tr><tr><td>valid_r2_score_1</td><td>0.69906</td></tr><tr><td>valid_r2_score_10</td><td>0.87481</td></tr><tr><td>valid_r2_score_11</td><td>0.87319</td></tr><tr><td>valid_r2_score_12</td><td>0.86767</td></tr><tr><td>valid_r2_score_13</td><td>0.8151</td></tr><tr><td>valid_r2_score_14</td><td>0.86204</td></tr><tr><td>valid_r2_score_15</td><td>0.87848</td></tr><tr><td>valid_r2_score_16</td><td>0.78546</td></tr><tr><td>valid_r2_score_17</td><td>0.80933</td></tr><tr><td>valid_r2_score_18</td><td>0.64981</td></tr><tr><td>valid_r2_score_19</td><td>0.68909</td></tr><tr><td>valid_r2_score_2</td><td>0.62747</td></tr><tr><td>valid_r2_score_20</td><td>0.7992</td></tr><tr><td>valid_r2_score_21</td><td>0.85661</td></tr><tr><td>valid_r2_score_22</td><td>0.79809</td></tr><tr><td>valid_r2_score_23</td><td>0.84288</td></tr><tr><td>valid_r2_score_24</td><td>0.82048</td></tr><tr><td>valid_r2_score_25</td><td>0.78543</td></tr><tr><td>valid_r2_score_26</td><td>0.95394</td></tr><tr><td>valid_r2_score_27</td><td>0.92631</td></tr><tr><td>valid_r2_score_28</td><td>0.90667</td></tr><tr><td>valid_r2_score_29</td><td>0.41437</td></tr><tr><td>valid_r2_score_3</td><td>0.59741</td></tr><tr><td>valid_r2_score_30</td><td>0.73625</td></tr><tr><td>valid_r2_score_31</td><td>0.32512</td></tr><tr><td>valid_r2_score_32</td><td>0.77015</td></tr><tr><td>valid_r2_score_33</td><td>0.74415</td></tr><tr><td>valid_r2_score_34</td><td>0.57934</td></tr><tr><td>valid_r2_score_35</td><td>0.6266</td></tr><tr><td>valid_r2_score_36</td><td>0.62866</td></tr><tr><td>valid_r2_score_37</td><td>0.63512</td></tr><tr><td>valid_r2_score_38</td><td>0.72351</td></tr><tr><td>valid_r2_score_4</td><td>0.60177</td></tr><tr><td>valid_r2_score_5</td><td>0.5603</td></tr><tr><td>valid_r2_score_6</td><td>0.63871</td></tr><tr><td>valid_r2_score_7</td><td>0.44548</td></tr><tr><td>valid_r2_score_8</td><td>0.86997</td></tr><tr><td>valid_r2_score_9</td><td>0.77615</td></tr></table><br/></div></div>"
      ],
      "text/plain": [
       "<IPython.core.display.HTML object>"
      ]
     },
     "metadata": {},
     "output_type": "display_data"
    },
    {
     "data": {
      "text/html": [
       " View run <strong style=\"color:#cdcd00\">run_2025-04-12_1255</strong> at: <a href='https://wandb.ai/catherine-chahrour-university-of-oxford/GANDALF_multilabel_regression_promoters_512bp_MLL-N/runs/pkzti2h6' target=\"_blank\">https://wandb.ai/catherine-chahrour-university-of-oxford/GANDALF_multilabel_regression_promoters_512bp_MLL-N/runs/pkzti2h6</a><br> View project at: <a href='https://wandb.ai/catherine-chahrour-university-of-oxford/GANDALF_multilabel_regression_promoters_512bp_MLL-N' target=\"_blank\">https://wandb.ai/catherine-chahrour-university-of-oxford/GANDALF_multilabel_regression_promoters_512bp_MLL-N</a><br>Synced 5 W&B file(s), 1 media file(s), 0 artifact file(s) and 0 other file(s)"
      ],
      "text/plain": [
       "<IPython.core.display.HTML object>"
      ]
     },
     "metadata": {},
     "output_type": "display_data"
    },
    {
     "data": {
      "text/html": [
       "Find logs at: <code>results/GANDALF_multilabel_regression_promoters_512bp_MLL-N/wandb/run-20250412_130925-pkzti2h6/logs</code>"
      ],
      "text/plain": [
       "<IPython.core.display.HTML object>"
      ]
     },
     "metadata": {},
     "output_type": "display_data"
    },
    {
     "name": "stderr",
     "output_type": "stream",
     "text": [
      "\u001b[34m\u001b[1mwandb\u001b[0m: Sweep Agent: Waiting for job.\n",
      "\u001b[34m\u001b[1mwandb\u001b[0m: Job received.\n",
      "\u001b[34m\u001b[1mwandb\u001b[0m: Agent Starting Run: 7h5zonzw with config:\n",
      "\u001b[34m\u001b[1mwandb\u001b[0m: \tbatch_size: 32\n",
      "\u001b[34m\u001b[1mwandb\u001b[0m: \tembedding_dropout: 0.04969646500676179\n",
      "\u001b[34m\u001b[1mwandb\u001b[0m: \tgflu_dropout: 0.024218762854562835\n",
      "\u001b[34m\u001b[1mwandb\u001b[0m: \tgflu_feature_init_sparsity: 0.06418368810878844\n",
      "\u001b[34m\u001b[1mwandb\u001b[0m: \tgflu_stages: 6\n",
      "\u001b[34m\u001b[1mwandb\u001b[0m: \tmax_epochs: 85\n"
     ]
    },
    {
     "data": {
      "text/html": [
       "Tracking run with wandb version 0.19.7.dev1"
      ],
      "text/plain": [
       "<IPython.core.display.HTML object>"
      ]
     },
     "metadata": {},
     "output_type": "display_data"
    },
    {
     "data": {
      "text/html": [
       "Run data is saved locally in <code>results/GANDALF_multilabel_regression_promoters_512bp_MLL-N/wandb/run-20250412_131917-7h5zonzw</code>"
      ],
      "text/plain": [
       "<IPython.core.display.HTML object>"
      ]
     },
     "metadata": {},
     "output_type": "display_data"
    },
    {
     "data": {
      "text/html": [
       "Syncing run <strong><a href='https://wandb.ai/catherine-chahrour-university-of-oxford/GANDALF_multilabel_regression_promoters_512bp_MLL-N/runs/7h5zonzw' target=\"_blank\">run_2025-04-12_1255</a></strong> to <a href='https://wandb.ai/catherine-chahrour-university-of-oxford/GANDALF_multilabel_regression_promoters_512bp_MLL-N' target=\"_blank\">Weights & Biases</a> (<a href='https://wandb.me/developer-guide' target=\"_blank\">docs</a>)<br>Sweep page: <a href='https://wandb.ai/catherine-chahrour-university-of-oxford/GANDALF_multilabel_regression_promoters_512bp_MLL-N/sweeps/bt06mu84' target=\"_blank\">https://wandb.ai/catherine-chahrour-university-of-oxford/GANDALF_multilabel_regression_promoters_512bp_MLL-N/sweeps/bt06mu84</a>"
      ],
      "text/plain": [
       "<IPython.core.display.HTML object>"
      ]
     },
     "metadata": {},
     "output_type": "display_data"
    },
    {
     "data": {
      "text/html": [
       " View project at <a href='https://wandb.ai/catherine-chahrour-university-of-oxford/GANDALF_multilabel_regression_promoters_512bp_MLL-N' target=\"_blank\">https://wandb.ai/catherine-chahrour-university-of-oxford/GANDALF_multilabel_regression_promoters_512bp_MLL-N</a>"
      ],
      "text/plain": [
       "<IPython.core.display.HTML object>"
      ]
     },
     "metadata": {},
     "output_type": "display_data"
    },
    {
     "data": {
      "text/html": [
       " View sweep at <a href='https://wandb.ai/catherine-chahrour-university-of-oxford/GANDALF_multilabel_regression_promoters_512bp_MLL-N/sweeps/bt06mu84' target=\"_blank\">https://wandb.ai/catherine-chahrour-university-of-oxford/GANDALF_multilabel_regression_promoters_512bp_MLL-N/sweeps/bt06mu84</a>"
      ],
      "text/plain": [
       "<IPython.core.display.HTML object>"
      ]
     },
     "metadata": {},
     "output_type": "display_data"
    },
    {
     "data": {
      "text/html": [
       " View run at <a href='https://wandb.ai/catherine-chahrour-university-of-oxford/GANDALF_multilabel_regression_promoters_512bp_MLL-N/runs/7h5zonzw' target=\"_blank\">https://wandb.ai/catherine-chahrour-university-of-oxford/GANDALF_multilabel_regression_promoters_512bp_MLL-N/runs/7h5zonzw</a>"
      ],
      "text/plain": [
       "<IPython.core.display.HTML object>"
      ]
     },
     "metadata": {},
     "output_type": "display_data"
    },
    {
     "data": {
      "text/html": [
       "<pre style=\"white-space:pre;overflow-x:auto;line-height:normal;font-family:Menlo,'DejaVu Sans Mono',consolas,'Courier New',monospace\"><span style=\"color: #008080; text-decoration-color: #008080; font-weight: bold\">2025</span>-<span style=\"color: #008080; text-decoration-color: #008080; font-weight: bold\">04</span>-<span style=\"color: #008080; text-decoration-color: #008080; font-weight: bold\">12</span> <span style=\"color: #00ff00; text-decoration-color: #00ff00; font-weight: bold\">13:19:19</span>,<span style=\"color: #008080; text-decoration-color: #008080; font-weight: bold\">165</span> - <span style=\"font-weight: bold\">{</span>pytorch_tabular.models.gandalf.gandal<span style=\"color: #00ff00; text-decoration-color: #00ff00; font-weight: bold\">f:109</span><span style=\"font-weight: bold\">}</span> - INFO - Data Aware Initialization of T0    \n",
       "</pre>\n"
      ],
      "text/plain": [
       "\u001b[1;36m2025\u001b[0m-\u001b[1;36m04\u001b[0m-\u001b[1;36m12\u001b[0m \u001b[1;92m13:19:19\u001b[0m,\u001b[1;36m165\u001b[0m - \u001b[1m{\u001b[0mpytorch_tabular.models.gandalf.gandal\u001b[1;92mf:109\u001b[0m\u001b[1m}\u001b[0m - INFO - Data Aware Initialization of T0    \n"
      ]
     },
     "metadata": {},
     "output_type": "display_data"
    },
    {
     "name": "stderr",
     "output_type": "stream",
     "text": [
      "/Users/catherine/miniforge3/envs/stack/lib/python3.13/site-packages/pytorch_lightning/loggers/wandb.py:396: There is a wandb run already in progress and newly created instances of `WandbLogger` will reuse this run. If this is not desired, call `wandb.finish()` before instantiating `WandbLogger`.\n",
      "\u001b[34m\u001b[1mwandb\u001b[0m: logging graph, to disable use `wandb.watch(log_graph=False)`\n",
      "/Users/catherine/miniforge3/envs/stack/lib/python3.13/site-packages/pytorch_lightning/callbacks/model_checkpoint.py:654: Checkpoint directory /Users/catherine/GMS/project/models/2025-04-11_gandalf/results/GANDALF_multilabel_regression_promoters_512bp_MLL-N/checkpoints exists and is not empty.\n"
     ]
    },
    {
     "data": {
      "application/vnd.jupyter.widget-view+json": {
       "model_id": "ffc3090645204e7aa35376437b356cdb",
       "version_major": 2,
       "version_minor": 0
      },
      "text/plain": [
       "Finding best initial lr:   0%|          | 0/100 [00:00<?, ?it/s]"
      ]
     },
     "metadata": {},
     "output_type": "display_data"
    },
    {
     "data": {
      "text/html": [
       "<pre style=\"white-space:pre;overflow-x:auto;line-height:normal;font-family:Menlo,'DejaVu Sans Mono',consolas,'Courier New',monospace\"><span style=\"color: #008080; text-decoration-color: #008080; font-weight: bold\">2025</span>-<span style=\"color: #008080; text-decoration-color: #008080; font-weight: bold\">04</span>-<span style=\"color: #008080; text-decoration-color: #008080; font-weight: bold\">12</span> <span style=\"color: #00ff00; text-decoration-color: #00ff00; font-weight: bold\">13:22:10</span>,<span style=\"color: #008080; text-decoration-color: #008080; font-weight: bold\">998</span> - <span style=\"font-weight: bold\">{</span>pytorch_tabular.models.gandalf.gandal<span style=\"color: #00ff00; text-decoration-color: #00ff00; font-weight: bold\">f:109</span><span style=\"font-weight: bold\">}</span> - INFO - Data Aware Initialization of T0    \n",
       "</pre>\n"
      ],
      "text/plain": [
       "\u001b[1;36m2025\u001b[0m-\u001b[1;36m04\u001b[0m-\u001b[1;36m12\u001b[0m \u001b[1;92m13:22:10\u001b[0m,\u001b[1;36m998\u001b[0m - \u001b[1m{\u001b[0mpytorch_tabular.models.gandalf.gandal\u001b[1;92mf:109\u001b[0m\u001b[1m}\u001b[0m - INFO - Data Aware Initialization of T0    \n"
      ]
     },
     "metadata": {},
     "output_type": "display_data"
    },
    {
     "name": "stderr",
     "output_type": "stream",
     "text": [
      "\u001b[34m\u001b[1mwandb\u001b[0m: \u001b[33mWARNING\u001b[0m Config item 'embedding_dropout' was locked by 'sweep' (ignored update).\n",
      "\u001b[34m\u001b[1mwandb\u001b[0m: \u001b[33mWARNING\u001b[0m Config item 'gflu_stages' was locked by 'sweep' (ignored update).\n",
      "\u001b[34m\u001b[1mwandb\u001b[0m: \u001b[33mWARNING\u001b[0m Config item 'gflu_dropout' was locked by 'sweep' (ignored update).\n",
      "\u001b[34m\u001b[1mwandb\u001b[0m: \u001b[33mWARNING\u001b[0m Config item 'gflu_feature_init_sparsity' was locked by 'sweep' (ignored update).\n",
      "\u001b[34m\u001b[1mwandb\u001b[0m: \u001b[33mWARNING\u001b[0m Config item 'batch_size' was locked by 'sweep' (ignored update).\n",
      "\u001b[34m\u001b[1mwandb\u001b[0m: \u001b[33mWARNING\u001b[0m Config item 'max_epochs' was locked by 'sweep' (ignored update).\n"
     ]
    },
    {
     "data": {
      "application/vnd.jupyter.widget-view+json": {
       "model_id": "341c86c273ce440ca14ce87e74fd18de",
       "version_major": 2,
       "version_minor": 0
      },
      "text/plain": [
       "Output()"
      ]
     },
     "metadata": {},
     "output_type": "display_data"
    }
   ],
   "source": [
    "with open(\"config/sweep_config.json\", \"r\") as f:\n",
    "    sweep_config = json.load(f)\n",
    "\n",
    "sweep_config[\"name\"] = sweep_name\n",
    "sweep_id = wandb.sweep(sweep_config, project=project)\n",
    "wandb.agent(sweep_id=sweep_id, function=train, count=10, project=project)"
   ]
  },
  {
   "cell_type": "markdown",
   "id": "2e8a961b",
   "metadata": {},
   "source": [
    "# 🚂 Train"
   ]
  },
  {
   "cell_type": "code",
   "execution_count": null,
   "id": "2363a9ba",
   "metadata": {},
   "outputs": [],
   "source": [
    "pprint(sweep_id)"
   ]
  },
  {
   "cell_type": "code",
   "execution_count": null,
   "id": "cd94bfa9",
   "metadata": {},
   "outputs": [],
   "source": []
  },
  {
   "cell_type": "code",
   "execution_count": null,
   "id": "7bad870d",
   "metadata": {},
   "outputs": [],
   "source": []
  },
  {
   "cell_type": "code",
   "execution_count": null,
   "id": "1bbec235",
   "metadata": {},
   "outputs": [],
   "source": [
    "# wandb.finish()"
   ]
  }
 ],
 "metadata": {
  "kernelspec": {
   "display_name": "stack",
   "language": "python",
   "name": "python3"
  },
  "language_info": {
   "codemirror_mode": {
    "name": "ipython",
    "version": 3
   },
   "file_extension": ".py",
   "mimetype": "text/x-python",
   "name": "python",
   "nbconvert_exporter": "python",
   "pygments_lexer": "ipython3",
   "version": "3.13.2"
  }
 },
 "nbformat": 4,
 "nbformat_minor": 5
}
