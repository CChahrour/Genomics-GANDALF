{
 "cells": [
  {
   "cell_type": "markdown",
   "id": "d76ba7da",
   "metadata": {},
   "source": [
    "# 🧙🏻‍♂️ GANDALF"
   ]
  },
  {
   "cell_type": "markdown",
   "id": "1bc85d13",
   "metadata": {},
   "source": [
    "Gated Adaptive Network for Deep Automated Learning of Features (GANDALF): \n",
    " - [Paper](https://arxiv.org/abs/2207.08548) \n",
    " - [Model](https://pytorch-tabular.readthedocs.io/en/latest/models/#gated-adaptive-network-for-deep-automated-learning-of-features-gandalf)"
   ]
  },
  {
   "cell_type": "markdown",
   "id": "85220f4d",
   "metadata": {},
   "source": [
    "# 📦 Setup"
   ]
  },
  {
   "cell_type": "code",
   "execution_count": null,
   "id": "821c5c3f",
   "metadata": {},
   "outputs": [],
   "source": [
    "import datetime\n",
    "import json\n",
    "import os\n",
    "import sys\n",
    "\n",
    "import pandas as pd\n",
    "import torch\n",
    "from loguru import logger\n",
    "from pytorch_tabular import TabularModel\n",
    "from pytorch_tabular.config import (\n",
    "    DataConfig,\n",
    "    ExperimentConfig,\n",
    "    OptimizerConfig,\n",
    "    TrainerConfig,\n",
    ")\n",
    "from pytorch_tabular.models import GANDALFConfig"
   ]
  },
  {
   "cell_type": "code",
   "execution_count": null,
   "id": "e32171f1",
   "metadata": {},
   "outputs": [],
   "source": [
    "data_dir = \"/Users/catherine/GMS/project/datasets\"\n",
    "model = \"GANDALF_SEM\"\n",
    "project = \"SEM_MLL-N_TF\"\n",
    "region_name = \"promoters_1024bp\"\n",
    "\n",
    "start_time = datetime.datetime.now().strftime(\"%Y-%m-%d_%H%M\")\n",
    "target = \"MLL-N\"\n",
    "task = \"singlelabel_regression\"\n",
    "group = f\"{model}_{region_name}_{target}_{task}\"\n",
    "best_config_path = f\"results/{project}/{group}_2025-04-26_1631/best_run_config.json\"\n",
    "results_dir = f\"final_results_{start_time}\"\n",
    "os.environ[\"WANDB_DIR\"] = f\"{results_dir}\"\n",
    "os.makedirs(results_dir, exist_ok=True)\n",
    "\n",
    "logger.info(f\"Project: {project} | Group: {group}\")\n"
   ]
  },
  {
   "cell_type": "code",
   "execution_count": null,
   "id": "ffe1b2e8",
   "metadata": {},
   "outputs": [],
   "source": [
    "# import argparse\n",
    "# parser = argparse.ArgumentParser(\n",
    "#     description=\"Retrain final model using best sweep config\"\n",
    "# )\n",
    "# parser.add_argument(\"--data_dir\", type=str, required=True, help=\"Dataset directory\")\n",
    "# parser.add_argument(\n",
    "#     \"--region_name\", type=str, default=\"promoters_1024bp\", help=\"Region name\"\n",
    "# )\n",
    "# parser.add_argument(\"--target\", type=str, default=\"MLL-N\", help=\"Target column\")\n",
    "# parser.add_argument(\n",
    "#     \"--best_config_path\",\n",
    "#     type=str,\n",
    "#     required=True,\n",
    "#     help=\"Path to best_run_config.json\",\n",
    "# )\n",
    "# parser.add_argument(\n",
    "#     \"--results_dir\",\n",
    "#     type=str,\n",
    "#     default=\"final_results\",\n",
    "#     help=\"Directory to save final model checkpoints\",\n",
    "# )\n",
    "# args = parser.parse_args()\n",
    "\n",
    "# os.makedirs(args.results_dir, exist_ok=True)\n"
   ]
  },
  {
   "cell_type": "code",
   "execution_count": null,
   "id": "a2d42228",
   "metadata": {},
   "outputs": [],
   "source": [
    "logger.remove()\n",
    "\n",
    "log_dir = os.path.join(results_dir, \"logs\")\n",
    "os.makedirs(log_dir, exist_ok=True)\n",
    "\n",
    "log_file = os.path.join(log_dir, \"run.log\")\n",
    "\n",
    "logger.add(\n",
    "    sink=sys.stderr,\n",
    "    level=\"INFO\",\n",
    "    format=\"{time:YYYY-MM-DD at HH:mm:ss} | {level} | {message}\",\n",
    "    colorize=True,\n",
    ")\n",
    "logger.add(\n",
    "    sink=log_file,\n",
    "    level=\"INFO\",\n",
    "    format=\"{time:YYYY-MM-DD at HH:mm:ss} | {level} | {message}\",\n",
    "    colorize=False,\n",
    "    enqueue=True,\n",
    ")\n"
   ]
  },
  {
   "cell_type": "code",
   "execution_count": null,
   "id": "f253df1f",
   "metadata": {},
   "outputs": [],
   "source": [
    "logger.info(f\"Loading best config from {best_config_path}\")\n",
    "with open(best_config_path, \"r\") as f:\n",
    "    config = json.load(f)\n"
   ]
  },
  {
   "cell_type": "code",
   "execution_count": null,
   "id": "8dcf4cf7",
   "metadata": {},
   "outputs": [],
   "source": [
    "# Load train and val data\n",
    "logger.info(\"Loading data...\")\n",
    "data = pd.read_parquet(f\"{data_dir}/data_{region_name}/{region_name}.parquet\")\n",
    "\n",
    "for col in data.select_dtypes(include=[\"float64\"]).columns:\n",
    "    data[col] = data[col].astype(\"float32\")\n",
    "\n",
    "meth_cols = [col for col in data.columns if \"METH\" in col]\n",
    "data[meth_cols] = data[meth_cols].fillna(-1)\n",
    "X_data = data[[col for col in data.columns if \"SEM\" in col and target not in col]]\n",
    "y_data = data[[\"SEM_CAT_1_MLL-N\"]]\n",
    "\n",
    "dataset = pd.concat([X_data, y_data], axis=1)\n",
    "\n",
    "train_data = dataset[~dataset.index.str.startswith((\"chr8\", \"chr9\"))]\n",
    "val_data = dataset[dataset.index.str.startswith(\"chr8\")]\n"
   ]
  },
  {
   "cell_type": "code",
   "execution_count": null,
   "id": "e61bc0c2",
   "metadata": {},
   "outputs": [
    {
     "ename": "",
     "evalue": "",
     "output_type": "error",
     "traceback": [
      "\u001b[1;31mThe Kernel crashed while executing code in the current cell or a previous cell. \n",
      "\u001b[1;31mPlease review the code in the cell(s) to identify a possible cause of the failure. \n",
      "\u001b[1;31mClick <a href='https://aka.ms/vscodeJupyterKernelCrash'>here</a> for more info. \n",
      "\u001b[1;31mView Jupyter <a href='command:jupyter.viewOutput'>log</a> for further details."
     ]
    }
   ],
   "source": [
    "# Setup configs\n",
    "device = torch.device(\n",
    "    \"mps\"\n",
    "    if torch.backends.mps.is_available()\n",
    "    else \"cuda\"\n",
    "    if torch.cuda.is_available()\n",
    "    else \"cpu\"\n",
    ")\n",
    "\n",
    "data_config = DataConfig(\n",
    "    continuous_cols=[col for col in train_data.columns if target not in col],\n",
    "    dataloader_kwargs={\"persistent_workers\": True},\n",
    "    normalize_continuous_features=False,\n",
    "    num_workers=8,\n",
    "    pin_memory=True,\n",
    "    target=[col for col in train_data.columns if target in col],\n",
    "    validation_split=0,\n",
    ")\n",
    "\n",
    "optimizer_config = OptimizerConfig()\n",
    "\n",
    "trainer_config = TrainerConfig(\n",
    "    accelerator=\"mps\" if device.type == \"mps\" else \"gpu\",\n",
    "    auto_lr_find=False,\n",
    "    batch_size=config[\"batch_size\"],\n",
    "    check_val_every_n_epoch=5,\n",
    "    checkpoints_path=os.path.join(results_dir, \"checkpoints\"),\n",
    "    early_stopping_mode=\"min\",\n",
    "    early_stopping_patience=3,\n",
    "    early_stopping=\"valid_loss\",\n",
    "    load_best=True,\n",
    "    max_epochs=config[\"max_epochs\"],\n",
    "    progress_bar=\"rich\",\n",
    "    trainer_kwargs=dict(enable_model_summary=False),\n",
    ")\n",
    "\n",
    "experiment_config = ExperimentConfig(\n",
    "    exp_log_freq=5,\n",
    "    exp_watch=\"gradients\",\n",
    "    log_logits=False,\n",
    "    log_target=\"wandb\",\n",
    "    project_name=project,\n",
    "    run_name=\"full\",\n",
    ")\n",
    "\n",
    "model_config = GANDALFConfig(\n",
    "    embedding_dropout=config[\"embedding_dropout\"],\n",
    "    gflu_dropout=config[\"gflu_dropout\"],\n",
    "    gflu_feature_init_sparsity=config[\"gflu_feature_init_sparsity\"],\n",
    "    gflu_stages=config[\"gflu_stages\"],\n",
    "    learning_rate=config[\"lr\"],\n",
    "    head=\"LinearHead\",\n",
    "    loss=\"MSELoss\",\n",
    "    metrics=[\"r2_score\", \"mean_squared_error\"],\n",
    "    metrics_params=[{}] * 2,\n",
    "    seed=42,\n",
    "    target_range=[(0, 1)],\n",
    "    task=\"regression\",\n",
    ")\n",
    "\n",
    "model = TabularModel(\n",
    "    data_config=data_config,\n",
    "    experiment_config=experiment_config,\n",
    "    model_config=model_config,\n",
    "    optimizer_config=optimizer_config,\n",
    "    trainer_config=trainer_config,\n",
    "    verbose=False,\n",
    "    suppress_lightning_logger=True,\n",
    ")\n",
    "\n",
    "logger.info(\"Building model...\")\n",
    "model = TabularModel(\n",
    "    data_config=data_config,\n",
    "    experiment_config=experiment_config,\n",
    "    model_config=model_config,\n",
    "    optimizer_config=optimizer_config,\n",
    "    trainer_config=trainer_config,\n",
    "    verbose=False,\n",
    "    suppress_lightning_logger=True,\n",
    ")\n"
   ]
  },
  {
   "cell_type": "code",
   "execution_count": 9,
   "id": "43491e61",
   "metadata": {},
   "outputs": [
    {
     "ename": "",
     "evalue": "",
     "output_type": "error",
     "traceback": [
      "\u001b[1;31mCannot execute code, session has been disposed. Please try restarting the Kernel."
     ]
    },
    {
     "ename": "",
     "evalue": "",
     "output_type": "error",
     "traceback": [
      "\u001b[1;31mCannot execute code, session has been disposed. Please try restarting the Kernel. \n",
      "\u001b[1;31mView Jupyter <a href='command:jupyter.viewOutput'>log</a> for further details."
     ]
    }
   ],
   "source": [
    "logger.info(\"Training final model...\")\n",
    "model.fit(train=train_data, validation=val_data)\n",
    "\n",
    "logger.success(\"✅ Final model trained and saved!\")\n"
   ]
  }
 ],
 "metadata": {
  "kernelspec": {
   "display_name": "Python (model)",
   "language": "python",
   "name": "model"
  },
  "language_info": {
   "codemirror_mode": {
    "name": "ipython",
    "version": 3
   },
   "file_extension": ".py",
   "mimetype": "text/x-python",
   "name": "python",
   "nbconvert_exporter": "python",
   "pygments_lexer": "ipython3",
   "version": "3.11.11"
  }
 },
 "nbformat": 4,
 "nbformat_minor": 5
}
