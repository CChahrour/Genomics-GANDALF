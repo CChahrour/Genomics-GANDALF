{
 "cells": [
  {
   "cell_type": "markdown",
   "id": "d76ba7da",
   "metadata": {},
   "source": [
    "# 🧙🏻‍♂️ GANDALF"
   ]
  },
  {
   "cell_type": "markdown",
   "id": "1bc85d13",
   "metadata": {},
   "source": [
    "Gated Adaptive Network for Deep Automated Learning of Features (GANDALF): \n",
    " - [Paper](https://arxiv.org/abs/2207.08548) \n",
    " - [Model](https://pytorch-tabular.readthedocs.io/en/latest/models/#gated-adaptive-network-for-deep-automated-learning-of-features-gandalf)"
   ]
  },
  {
   "cell_type": "markdown",
   "id": "85220f4d",
   "metadata": {},
   "source": [
    "# 📦 Setup"
   ]
  },
  {
   "cell_type": "code",
   "execution_count": null,
   "id": "821c5c3f",
   "metadata": {},
   "outputs": [],
   "source": [
    "import datetime\n",
    "import json\n",
    "import os\n",
    "\n",
    "import matplotlib.pyplot as plt\n",
    "import pandas as pd\n",
    "import pytorch_tabular\n",
    "import seaborn as sns\n",
    "import torch\n",
    "import wandb\n",
    "from pytorch_tabular import TabularModel\n",
    "from pytorch_tabular.config import (\n",
    "    DataConfig,\n",
    "    ExperimentConfig,\n",
    "    OptimizerConfig,\n",
    "    TrainerConfig,\n",
    ")\n",
    "from pytorch_tabular.models import (\n",
    "    GANDALFConfig,\n",
    ")\n",
    "from rich.pretty import pprint"
   ]
  },
  {
   "cell_type": "code",
   "execution_count": null,
   "id": "8dcf4cf7",
   "metadata": {},
   "outputs": [],
   "source": [
    "device = torch.device(\n",
    "    \"mps\"\n",
    "    if torch.backends.mps.is_available()\n",
    "    else \"cuda\"\n",
    "    if torch.cuda.is_available()\n",
    "    else \"cpu\"\n",
    ")\n",
    "pprint(f\"Using device: {device}\")\n",
    "\n",
    "if device.type == \"cuda\":\n",
    "    gpu_count = torch.cuda.device_count()\n",
    "    gpu_name = torch.cuda.get_device_name(0)\n",
    "    pprint(f\"GPU Count: {gpu_count} | GPU Name: {gpu_name}\")\n",
    "\n",
    "wandb.login()\n",
    "\n",
    "pprint(\n",
    "    f\"Versions: Torch: {torch.__version__}, PyTorch Tabular: {pytorch_tabular.__version__}\"\n",
    ")"
   ]
  },
  {
   "cell_type": "code",
   "execution_count": null,
   "id": "fb74bf14",
   "metadata": {},
   "outputs": [],
   "source": [
    "model = \"GANDALF_SEM\"\n",
    "project = \"SEM_MLL-N_TF\"\n",
    "region_name = \"promoters_1024bp\"\n",
    "target = \"MLL-N\"\n",
    "task = \"singlelabel_regression\"\n",
    "start_time = datetime.datetime.now().strftime(\"%Y-%m-%d_%H%M\")\n",
    "group = f\"{model}_{region_name}_{target}_{task}\"\n",
    "results_dir = f\"results/{project}/{group}_{start_time}\"\n",
    "os.environ[\"WANDB_DIR\"] = f\"{results_dir}\"\n",
    "os.makedirs(results_dir, exist_ok=True)\n",
    "\n",
    "pprint(f\"Project: {project} | Group: {group}\")"
   ]
  },
  {
   "cell_type": "markdown",
   "id": "55cae40c",
   "metadata": {},
   "source": [
    "# 📊 Load Data"
   ]
  },
  {
   "cell_type": "code",
   "execution_count": null,
   "id": "007ecda2",
   "metadata": {},
   "outputs": [],
   "source": [
    "data = pd.read_parquet(f\"/Users/catherine/GMS/project/datasets/data_{region_name}/{region_name}.parquet\")\n",
    "\n",
    "for col in data.select_dtypes(include=[\"float64\"]).columns:\n",
    "    data[col] = data[col].astype(\"float32\")\n",
    "\n",
    "meth_cols = [col for col in data.columns if \"METH\" in col]\n",
    "data[meth_cols] = data[meth_cols].fillna(-1)\n",
    "X_data = data[[col for col in data.columns if \"SEM\" in col and target not in col]]\n",
    "y_data = data[[\"SEM_CAT_1_MLL-N\"]]\n",
    "\n",
    "dataset = pd.concat([X_data, y_data], axis=1)\n",
    "\n",
    "train_data = dataset[~dataset.index.str.startswith((\"chr8\", \"chr9\"))]\n",
    "val_data = dataset[dataset.index.str.startswith(\"chr8\")]\n",
    "test_data = dataset[dataset.index.str.startswith(\"chr9\")]"
   ]
  },
  {
   "cell_type": "markdown",
   "id": "31a819cc",
   "metadata": {},
   "source": [
    "# ⚙️ Config"
   ]
  },
  {
   "cell_type": "code",
   "execution_count": null,
   "id": "587eb90c",
   "metadata": {},
   "outputs": [],
   "source": [
    "data_config = DataConfig(\n",
    "    continuous_cols=[col for col in train_data.columns if target not in col],\n",
    "    continuous_feature_transform=\"quantile_uniform\",\n",
    "    dataloader_kwargs={\"persistent_workers\": True},\n",
    "    normalize_continuous_features=True,\n",
    "    num_workers=10,\n",
    "    pin_memory=True,\n",
    "    target=[col for col in train_data.columns if target in col],\n",
    "    validation_split=0,\n",
    ")"
   ]
  },
  {
   "cell_type": "code",
   "execution_count": null,
   "id": "88c6069e",
   "metadata": {},
   "outputs": [],
   "source": [
    "optimizer_config = OptimizerConfig()\n",
    "\n",
    "\n",
    "def train():\n",
    "    \"\"\"Trains a model with the hyperparameters defined in the sweep.\"\"\"\n",
    "    if wandb.run is not None:\n",
    "        wandb.finish()\n",
    "    with wandb.init(\n",
    "        name=f\"run_{datetime.datetime.now().strftime('%Y-%m-%d_%H%M')}\",\n",
    "        project=project,\n",
    "        group=group,\n",
    "        job_type=\"sweep\",\n",
    "        dir=f\"{results_dir}/wandb\",\n",
    "        reinit=\"finish_previous\",\n",
    "    ) as run:\n",
    "        config = run.config\n",
    "\n",
    "        trainer_config = TrainerConfig(\n",
    "            accelerator=\"mps\" if device.type == \"mps\" else \"gpu\",\n",
    "            auto_lr_find=True,\n",
    "            batch_size=config.batch_size,\n",
    "            check_val_every_n_epoch=5,\n",
    "            checkpoints_path=f\"{results_dir}/checkpoints\",\n",
    "            early_stopping_mode=\"min\",\n",
    "            early_stopping_patience=3,\n",
    "            early_stopping=\"valid_loss\",\n",
    "            load_best=True,\n",
    "            max_epochs=config.max_epochs,\n",
    "            progress_bar=\"rich\",\n",
    "            trainer_kwargs=dict(enable_model_summary=False),\n",
    "        )\n",
    "\n",
    "        experiment_config = ExperimentConfig(\n",
    "            exp_log_freq=5,\n",
    "            exp_watch=\"gradients\",\n",
    "            log_logits=False,\n",
    "            log_target=\"wandb\",\n",
    "            project_name=project,\n",
    "            run_name=run.name,\n",
    "        )\n",
    "\n",
    "        model_config = GANDALFConfig(\n",
    "            embedding_dropout=config.embedding_dropout,\n",
    "            gflu_dropout=config.gflu_dropout,\n",
    "            gflu_feature_init_sparsity=config.gflu_feature_init_sparsity,\n",
    "            gflu_stages=config.gflu_stages,\n",
    "            head=\"LinearHead\",\n",
    "            loss=\"MSELoss\",\n",
    "            metrics=[\"r2_score\", \"mean_squared_error\"],\n",
    "            metrics_params=[{}] * 2,\n",
    "            seed=42,\n",
    "            target_range=[(0, 1)],\n",
    "            task=\"regression\",\n",
    "        )\n",
    "\n",
    "        model = TabularModel(\n",
    "            data_config=data_config,\n",
    "            experiment_config=experiment_config,\n",
    "            model_config=model_config,\n",
    "            optimizer_config=optimizer_config,\n",
    "            trainer_config=trainer_config,\n",
    "            verbose=False,\n",
    "            suppress_lightning_logger=True,\n",
    "        )\n",
    "\n",
    "        model.fit(train=train_data, validation=val_data)\n",
    "        model.predict(test_data)"
   ]
  },
  {
   "cell_type": "markdown",
   "id": "40ef5849",
   "metadata": {},
   "source": [
    "# 🧹Sweep"
   ]
  },
  {
   "cell_type": "code",
   "execution_count": null,
   "id": "edab74dd",
   "metadata": {},
   "outputs": [],
   "source": [
    "with open(\"config/sweep_config.json\", \"r\") as f:\n",
    "    sweep_config = json.load(f)\n",
    "\n",
    "sweep_config[\"name\"] = group\n",
    "sweep_id = wandb.sweep(sweep_config, project=project)\n",
    "wandb.agent(sweep_id=sweep_id, function=train, count=50, project=project)"
   ]
  },
  {
   "cell_type": "markdown",
   "id": "2e8a961b",
   "metadata": {},
   "source": [
    "# 🚂 Train"
   ]
  },
  {
   "cell_type": "code",
   "execution_count": null,
   "id": "2363a9ba",
   "metadata": {},
   "outputs": [],
   "source": [
    "pprint(sweep_id)\n",
    "# cwotlgqx"
   ]
  },
  {
   "cell_type": "code",
   "execution_count": null,
   "id": "cd94bfa9",
   "metadata": {},
   "outputs": [],
   "source": [
    "api = wandb.Api()\n",
    "sweep = api.sweep(f\"catherine-chahrour-university-of-oxford/{project}/{sweep_id}\")\n",
    "best_run = sorted(\n",
    "    sweep.runs, key=lambda r: r.summary.get(\"valid_r2_score\", 0), reverse=True\n",
    ")[0]\n",
    "config = best_run.config\n",
    "pprint(f\"Best run: {best_run.id} | R²: {best_run.summary['valid_r2_score']}\")"
   ]
  },
  {
   "cell_type": "code",
   "execution_count": null,
   "id": "1bbec235",
   "metadata": {},
   "outputs": [],
   "source": [
    "wandb.finish()"
   ]
  }
 ],
 "metadata": {
  "kernelspec": {
   "display_name": "model",
   "language": "python",
   "name": "python3"
  },
  "language_info": {
   "codemirror_mode": {
    "name": "ipython",
    "version": 3
   },
   "file_extension": ".py",
   "mimetype": "text/x-python",
   "name": "python",
   "nbconvert_exporter": "python",
   "pygments_lexer": "ipython3",
   "version": "3.11.11"
  }
 },
 "nbformat": 4,
 "nbformat_minor": 5
}
